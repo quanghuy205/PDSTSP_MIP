{
 "cells": [
  {
   "cell_type": "markdown",
   "metadata": {},
   "source": [
    "# Completely Randomized Single-Factor Experiment\n",
    "## EXAMPLE: TENSILE STRENGTH\n",
    "A manufacturer of paper used for making grocery bags is interested in improving the prod-\n",
    "uct’s tensile strength. Product engineering believes that tensile strength is a function of the \n",
    "hardwood concentration in the pulp and that the range of hardwood concentrations of practi-\n",
    "cal interest is between 5 and 20%. A team of engineers responsible for the study decides to \n",
    "investigate four levels of hardwood concentration: 5%, 10%, 15%, and 20%. They decide to \n",
    "make up six test specimens at each concentration level by using a pilot plant. All 24 specimens \n",
    "are tested on a laboratory tensile tester in random order. The data from this experiment are \n",
    "shown in Table 13-1."
   ]
  },
  {
   "cell_type": "code",
   "execution_count": 1,
   "metadata": {},
   "outputs": [],
   "source": [
    "import pandas as pd\n",
    "import statsmodels.formula.api as smf\n",
    "import matplotlib.pyplot as plt\n",
    "import scipy.stats as st\n",
    "%matplotlib inline"
   ]
  },
  {
   "cell_type": "code",
   "execution_count": 2,
   "metadata": {},
   "outputs": [
    {
     "data": {
      "text/html": [
       "<div>\n",
       "<style>\n",
       "    .dataframe thead tr:only-child th {\n",
       "        text-align: right;\n",
       "    }\n",
       "\n",
       "    .dataframe thead th {\n",
       "        text-align: left;\n",
       "    }\n",
       "\n",
       "    .dataframe tbody tr th {\n",
       "        vertical-align: top;\n",
       "    }\n",
       "</style>\n",
       "<table border=\"1\" class=\"dataframe\">\n",
       "  <thead>\n",
       "    <tr style=\"text-align: right;\">\n",
       "      <th></th>\n",
       "      <th>Hardwood</th>\n",
       "      <th>Strength</th>\n",
       "    </tr>\n",
       "  </thead>\n",
       "  <tbody>\n",
       "    <tr>\n",
       "      <th>0</th>\n",
       "      <td>5</td>\n",
       "      <td>7</td>\n",
       "    </tr>\n",
       "    <tr>\n",
       "      <th>1</th>\n",
       "      <td>5</td>\n",
       "      <td>8</td>\n",
       "    </tr>\n",
       "    <tr>\n",
       "      <th>2</th>\n",
       "      <td>5</td>\n",
       "      <td>15</td>\n",
       "    </tr>\n",
       "    <tr>\n",
       "      <th>3</th>\n",
       "      <td>5</td>\n",
       "      <td>11</td>\n",
       "    </tr>\n",
       "    <tr>\n",
       "      <th>4</th>\n",
       "      <td>5</td>\n",
       "      <td>9</td>\n",
       "    </tr>\n",
       "  </tbody>\n",
       "</table>\n",
       "</div>"
      ],
      "text/plain": [
       "   Hardwood  Strength\n",
       "0         5         7\n",
       "1         5         8\n",
       "2         5        15\n",
       "3         5        11\n",
       "4         5         9"
      ]
     },
     "execution_count": 2,
     "metadata": {},
     "output_type": "execute_result"
    }
   ],
   "source": [
    "df = pd.read_excel('table 13-1.xlsx')\n",
    "df.head()"
   ]
  },
  {
   "cell_type": "code",
   "execution_count": 3,
   "metadata": {},
   "outputs": [
    {
     "data": {
      "text/plain": [
       "<matplotlib.axes._subplots.AxesSubplot at 0x20689390f98>"
      ]
     },
     "execution_count": 3,
     "metadata": {},
     "output_type": "execute_result"
    },
    {
     "data": {
      "image/png": "[encoded data removed]",
      "text/plain": [
       "<matplotlib.figure.Figure at 0x2068937ba90>"
      ]
     },
     "metadata": {},
     "output_type": "display_data"
    }
   ],
   "source": [
    "df.plot.scatter('Hardwood', 'Strength')"
   ]
  },
  {
   "cell_type": "code",
   "execution_count": 4,
   "metadata": {},
   "outputs": [
    {
     "data": {
      "text/html": [
       "<table class=\"simpletable\">\n",
       "<caption>OLS Regression Results</caption>\n",
       "<tr>\n",
       "  <th>Dep. Variable:</th>        <td>Strength</td>     <th>  R-squared:         </th> <td>   0.746</td>\n",
       "</tr>\n",
       "<tr>\n",
       "  <th>Model:</th>                   <td>OLS</td>       <th>  Adj. R-squared:    </th> <td>   0.708</td>\n",
       "</tr>\n",
       "<tr>\n",
       "  <th>Method:</th>             <td>Least Squares</td>  <th>  F-statistic:       </th> <td>   19.61</td>\n",
       "</tr>\n",
       "<tr>\n",
       "  <th>Date:</th>             <td>Tue, 21 Nov 2017</td> <th>  Prob (F-statistic):</th> <td>3.59e-06</td>\n",
       "</tr>\n",
       "<tr>\n",
       "  <th>Time:</th>                 <td>10:25:37</td>     <th>  Log-Likelihood:    </th> <td> -54.344</td>\n",
       "</tr>\n",
       "<tr>\n",
       "  <th>No. Observations:</th>      <td>    24</td>      <th>  AIC:               </th> <td>   116.7</td>\n",
       "</tr>\n",
       "<tr>\n",
       "  <th>Df Residuals:</th>          <td>    20</td>      <th>  BIC:               </th> <td>   121.4</td>\n",
       "</tr>\n",
       "<tr>\n",
       "  <th>Df Model:</th>              <td>     3</td>      <th>                     </th>     <td> </td>   \n",
       "</tr>\n",
       "<tr>\n",
       "  <th>Covariance Type:</th>      <td>nonrobust</td>    <th>                     </th>     <td> </td>   \n",
       "</tr>\n",
       "</table>\n",
       "<table class=\"simpletable\">\n",
       "<tr>\n",
       "          <td></td>             <th>coef</th>     <th>std err</th>      <th>t</th>      <th>P>|t|</th>  <th>[0.025</th>    <th>0.975]</th>  \n",
       "</tr>\n",
       "<tr>\n",
       "  <th>Intercept</th>         <td>   10.0000</td> <td>    1.041</td> <td>    9.602</td> <td> 0.000</td> <td>    7.827</td> <td>   12.173</td>\n",
       "</tr>\n",
       "<tr>\n",
       "  <th>C(Hardwood)[T.10]</th> <td>    5.6667</td> <td>    1.473</td> <td>    3.847</td> <td> 0.001</td> <td>    2.594</td> <td>    8.739</td>\n",
       "</tr>\n",
       "<tr>\n",
       "  <th>C(Hardwood)[T.15]</th> <td>    7.0000</td> <td>    1.473</td> <td>    4.753</td> <td> 0.000</td> <td>    3.928</td> <td>   10.072</td>\n",
       "</tr>\n",
       "<tr>\n",
       "  <th>C(Hardwood)[T.20]</th> <td>   11.1667</td> <td>    1.473</td> <td>    7.581</td> <td> 0.000</td> <td>    8.094</td> <td>   14.239</td>\n",
       "</tr>\n",
       "</table>\n",
       "<table class=\"simpletable\">\n",
       "<tr>\n",
       "  <th>Omnibus:</th>       <td> 0.929</td> <th>  Durbin-Watson:     </th> <td>   2.181</td>\n",
       "</tr>\n",
       "<tr>\n",
       "  <th>Prob(Omnibus):</th> <td> 0.628</td> <th>  Jarque-Bera (JB):  </th> <td>   0.861</td>\n",
       "</tr>\n",
       "<tr>\n",
       "  <th>Skew:</th>          <td> 0.248</td> <th>  Prob(JB):          </th> <td>   0.650</td>\n",
       "</tr>\n",
       "<tr>\n",
       "  <th>Kurtosis:</th>      <td> 2.215</td> <th>  Cond. No.          </th> <td>    4.79</td>\n",
       "</tr>\n",
       "</table>"
      ],
      "text/plain": [
       "<class 'statsmodels.iolib.summary.Summary'>\n",
       "\"\"\"\n",
       "                            OLS Regression Results                            \n",
       "==============================================================================\n",
       "Dep. Variable:               Strength   R-squared:                       0.746\n",
       "Model:                            OLS   Adj. R-squared:                  0.708\n",
       "Method:                 Least Squares   F-statistic:                     19.61\n",
       "Date:                Tue, 21 Nov 2017   Prob (F-statistic):           3.59e-06\n",
       "Time:                        10:25:37   Log-Likelihood:                -54.344\n",
       "No. Observations:                  24   AIC:                             116.7\n",
       "Df Residuals:                      20   BIC:                             121.4\n",
       "Df Model:                           3                                         \n",
       "Covariance Type:            nonrobust                                         \n",
       "=====================================================================================\n",
       "                        coef    std err          t      P>|t|      [0.025      0.975]\n",
       "-------------------------------------------------------------------------------------\n",
       "Intercept            10.0000      1.041      9.602      0.000       7.827      12.173\n",
       "C(Hardwood)[T.10]     5.6667      1.473      3.847      0.001       2.594       8.739\n",
       "C(Hardwood)[T.15]     7.0000      1.473      4.753      0.000       3.928      10.072\n",
       "C(Hardwood)[T.20]    11.1667      1.473      7.581      0.000       8.094      14.239\n",
       "==============================================================================\n",
       "Omnibus:                        0.929   Durbin-Watson:                   2.181\n",
       "Prob(Omnibus):                  0.628   Jarque-Bera (JB):                0.861\n",
       "Skew:                           0.248   Prob(JB):                        0.650\n",
       "Kurtosis:                       2.215   Cond. No.                         4.79\n",
       "==============================================================================\n",
       "\n",
       "Warnings:\n",
       "[1] Standard Errors assume that the covariance matrix of the errors is correctly specified.\n",
       "\"\"\""
      ]
     },
     "execution_count": 4,
     "metadata": {},
     "output_type": "execute_result"
    }
   ],
   "source": [
    "res = smf.ols('Strength ~ C(Hardwood)', data=df).fit()\n",
    "res.summary()"
   ]
  },
  {
   "cell_type": "markdown",
   "metadata": {},
   "source": [
    "## The Analysis of Variance"
   ]
  },
  {
   "cell_type": "code",
   "execution_count": 5,
   "metadata": {},
   "outputs": [],
   "source": [
    "from statsmodels.stats.anova import anova_lm"
   ]
  },
  {
   "cell_type": "code",
   "execution_count": 6,
   "metadata": {},
   "outputs": [
    {
     "name": "stderr",
     "output_type": "stream",
     "text": [
      "D:\\Anaconda3\\lib\\site-packages\\scipy\\stats\\_distn_infrastructure.py:879: RuntimeWarning: invalid value encountered in greater\n",
      "  return (self.a < x) & (x < self.b)\n",
      "D:\\Anaconda3\\lib\\site-packages\\scipy\\stats\\_distn_infrastructure.py:879: RuntimeWarning: invalid value encountered in less\n",
      "  return (self.a < x) & (x < self.b)\n",
      "D:\\Anaconda3\\lib\\site-packages\\scipy\\stats\\_distn_infrastructure.py:1818: RuntimeWarning: invalid value encountered in less_equal\n",
      "  cond2 = cond0 & (x <= self.a)\n"
     ]
    },
    {
     "data": {
      "text/html": [
       "<div>\n",
       "<style>\n",
       "    .dataframe thead tr:only-child th {\n",
       "        text-align: right;\n",
       "    }\n",
       "\n",
       "    .dataframe thead th {\n",
       "        text-align: left;\n",
       "    }\n",
       "\n",
       "    .dataframe tbody tr th {\n",
       "        vertical-align: top;\n",
       "    }\n",
       "</style>\n",
       "<table border=\"1\" class=\"dataframe\">\n",
       "  <thead>\n",
       "    <tr style=\"text-align: right;\">\n",
       "      <th></th>\n",
       "      <th>df</th>\n",
       "      <th>sum_sq</th>\n",
       "      <th>mean_sq</th>\n",
       "      <th>F</th>\n",
       "      <th>PR(&gt;F)</th>\n",
       "    </tr>\n",
       "  </thead>\n",
       "  <tbody>\n",
       "    <tr>\n",
       "      <th>C(Hardwood)</th>\n",
       "      <td>3.0</td>\n",
       "      <td>382.791667</td>\n",
       "      <td>127.597222</td>\n",
       "      <td>19.605207</td>\n",
       "      <td>0.000004</td>\n",
       "    </tr>\n",
       "    <tr>\n",
       "      <th>Residual</th>\n",
       "      <td>20.0</td>\n",
       "      <td>130.166667</td>\n",
       "      <td>6.508333</td>\n",
       "      <td>NaN</td>\n",
       "      <td>NaN</td>\n",
       "    </tr>\n",
       "  </tbody>\n",
       "</table>\n",
       "</div>"
      ],
      "text/plain": [
       "               df      sum_sq     mean_sq          F    PR(>F)\n",
       "C(Hardwood)   3.0  382.791667  127.597222  19.605207  0.000004\n",
       "Residual     20.0  130.166667    6.508333        NaN       NaN"
      ]
     },
     "execution_count": 6,
     "metadata": {},
     "output_type": "execute_result"
    }
   ],
   "source": [
    "anova_lm(res)"
   ]
  },
  {
   "cell_type": "markdown",
   "metadata": {},
   "source": [
    "## Tukey’s Test"
   ]
  },
  {
   "cell_type": "code",
   "execution_count": 7,
   "metadata": {},
   "outputs": [],
   "source": [
    "from statsmodels.stats.multicomp import pairwise_tukeyhsd"
   ]
  },
  {
   "cell_type": "code",
   "execution_count": 8,
   "metadata": {},
   "outputs": [
    {
     "data": {
      "text/html": [
       "<table class=\"simpletable\">\n",
       "<caption>Multiple Comparison of Means - Tukey HSD,FWER=0.05</caption>\n",
       "<tr>\n",
       "  <th>group1</th> <th>group2</th> <th>meandiff</th>  <th>lower</th>   <th>upper</th>  <th>reject</th>\n",
       "</tr>\n",
       "<tr>\n",
       "     <td>5</td>     <td>10</td>    <td>5.6667</td>  <td>1.5439</td>  <td>9.7894</td>   <td>True</td> \n",
       "</tr>\n",
       "<tr>\n",
       "     <td>5</td>     <td>15</td>      <td>7.0</td>   <td>2.8773</td>  <td>11.1227</td>  <td>True</td> \n",
       "</tr>\n",
       "<tr>\n",
       "     <td>5</td>     <td>20</td>    <td>11.1667</td> <td>7.0439</td>  <td>15.2894</td>  <td>True</td> \n",
       "</tr>\n",
       "<tr>\n",
       "    <td>10</td>     <td>15</td>    <td>1.3333</td>  <td>-2.7894</td> <td>5.4561</td>   <td>False</td>\n",
       "</tr>\n",
       "<tr>\n",
       "    <td>10</td>     <td>20</td>      <td>5.5</td>   <td>1.3773</td>  <td>9.6227</td>   <td>True</td> \n",
       "</tr>\n",
       "<tr>\n",
       "    <td>15</td>     <td>20</td>    <td>4.1667</td>  <td>0.0439</td>  <td>8.2894</td>   <td>True</td> \n",
       "</tr>\n",
       "</table>"
      ],
      "text/plain": [
       "<class 'statsmodels.iolib.table.SimpleTable'>"
      ]
     },
     "execution_count": 8,
     "metadata": {},
     "output_type": "execute_result"
    }
   ],
   "source": [
    "comp = pairwise_tukeyhsd(df['Strength'], df['Hardwood'])\n",
    "comp.summary()"
   ]
  },
  {
   "cell_type": "code",
   "execution_count": 9,
   "metadata": {},
   "outputs": [
    {
     "data": {
      "image/png": "[encoded data removed]",
      "text/plain": [
       "<matplotlib.figure.Figure at 0x2068a13e080>"
      ]
     },
     "metadata": {},
     "output_type": "display_data"
    }
   ],
   "source": [
    "comp.plot_simultaneous(figsize=(8, 4));"
   ]
  }
 ],
 "metadata": {
  "kernelspec": {
   "display_name": "Python 3",
   "language": "python",
   "name": "python3"
  },
  "language_info": {
   "codemirror_mode": {
    "name": "ipython",
    "version": 3
   },
   "file_extension": ".py",
   "mimetype": "text/x-python",
   "name": "python",
   "nbconvert_exporter": "python",
   "pygments_lexer": "ipython3",
   "version": "3.6.2"
  }
 },
 "nbformat": 4,
 "nbformat_minor": 2
}
