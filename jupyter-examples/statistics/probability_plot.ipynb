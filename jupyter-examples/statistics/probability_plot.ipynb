{
 "cells": [
  {
   "cell_type": "markdown",
   "metadata": {},
   "source": [
    "# Gráficos de probabilidad"
   ]
  },
  {
   "cell_type": "code",
   "execution_count": 1,
   "metadata": {
    "scrolled": true
   },
   "outputs": [],
   "source": [
    "import scipy.stats as st\n",
    "import pandas as pd\n",
    "import matplotlib.pyplot as plt\n",
    "%matplotlib inline"
   ]
  },
  {
   "cell_type": "code",
   "execution_count": 2,
   "metadata": {},
   "outputs": [
    {
     "data": {
      "text/html": [
       "<div>\n",
       "<style>\n",
       "    .dataframe thead tr:only-child th {\n",
       "        text-align: right;\n",
       "    }\n",
       "\n",
       "    .dataframe thead th {\n",
       "        text-align: left;\n",
       "    }\n",
       "\n",
       "    .dataframe tbody tr th {\n",
       "        vertical-align: top;\n",
       "    }\n",
       "</style>\n",
       "<table border=\"1\" class=\"dataframe\">\n",
       "  <thead>\n",
       "    <tr style=\"text-align: right;\">\n",
       "      <th></th>\n",
       "      <th>obs</th>\n",
       "    </tr>\n",
       "    <tr>\n",
       "      <th>tiempo</th>\n",
       "      <th></th>\n",
       "    </tr>\n",
       "  </thead>\n",
       "  <tbody>\n",
       "    <tr>\n",
       "      <th>0.01</th>\n",
       "      <td>8</td>\n",
       "    </tr>\n",
       "    <tr>\n",
       "      <th>0.02</th>\n",
       "      <td>2</td>\n",
       "    </tr>\n",
       "    <tr>\n",
       "      <th>0.03</th>\n",
       "      <td>3</td>\n",
       "    </tr>\n",
       "    <tr>\n",
       "      <th>0.04</th>\n",
       "      <td>6</td>\n",
       "    </tr>\n",
       "    <tr>\n",
       "      <th>0.05</th>\n",
       "      <td>10</td>\n",
       "    </tr>\n",
       "  </tbody>\n",
       "</table>\n",
       "</div>"
      ],
      "text/plain": [
       "        obs\n",
       "tiempo     \n",
       "0.01      8\n",
       "0.02      2\n",
       "0.03      3\n",
       "0.04      6\n",
       "0.05     10"
      ]
     },
     "execution_count": 2,
     "metadata": {},
     "output_type": "execute_result"
    }
   ],
   "source": [
    "excel_data = pd.read_excel('interarrival_times.xlsx')\n",
    "dt = excel_data.groupby('tiempo').count()\n",
    "dt.head()"
   ]
  },
  {
   "cell_type": "code",
   "execution_count": 3,
   "metadata": {},
   "outputs": [
    {
     "data": {
      "text/html": [
       "<div>\n",
       "<style>\n",
       "    .dataframe thead tr:only-child th {\n",
       "        text-align: right;\n",
       "    }\n",
       "\n",
       "    .dataframe thead th {\n",
       "        text-align: left;\n",
       "    }\n",
       "\n",
       "    .dataframe tbody tr th {\n",
       "        vertical-align: top;\n",
       "    }\n",
       "</style>\n",
       "<table border=\"1\" class=\"dataframe\">\n",
       "  <thead>\n",
       "    <tr style=\"text-align: right;\">\n",
       "      <th></th>\n",
       "      <th>count</th>\n",
       "    </tr>\n",
       "    <tr>\n",
       "      <th>tiempo</th>\n",
       "      <th></th>\n",
       "    </tr>\n",
       "  </thead>\n",
       "  <tbody>\n",
       "    <tr>\n",
       "      <th>0.01</th>\n",
       "      <td>8</td>\n",
       "    </tr>\n",
       "    <tr>\n",
       "      <th>0.02</th>\n",
       "      <td>2</td>\n",
       "    </tr>\n",
       "    <tr>\n",
       "      <th>0.03</th>\n",
       "      <td>3</td>\n",
       "    </tr>\n",
       "    <tr>\n",
       "      <th>0.04</th>\n",
       "      <td>6</td>\n",
       "    </tr>\n",
       "    <tr>\n",
       "      <th>0.05</th>\n",
       "      <td>10</td>\n",
       "    </tr>\n",
       "  </tbody>\n",
       "</table>\n",
       "</div>"
      ],
      "text/plain": [
       "        count\n",
       "tiempo       \n",
       "0.01        8\n",
       "0.02        2\n",
       "0.03        3\n",
       "0.04        6\n",
       "0.05       10"
      ]
     },
     "execution_count": 3,
     "metadata": {},
     "output_type": "execute_result"
    }
   ],
   "source": [
    "dt.columns = ['count']\n",
    "dt.head()"
   ]
  },
  {
   "cell_type": "code",
   "execution_count": 4,
   "metadata": {
    "scrolled": true
   },
   "outputs": [],
   "source": [
    "n = excel_data['tiempo'].count()\n",
    "promedio = excel_data['tiempo'].mean()\n",
    "x = st.expon(scale=promedio)"
   ]
  },
  {
   "cell_type": "code",
   "execution_count": 5,
   "metadata": {},
   "outputs": [
    {
     "data": {
      "text/html": [
       "<div>\n",
       "<style>\n",
       "    .dataframe thead tr:only-child th {\n",
       "        text-align: right;\n",
       "    }\n",
       "\n",
       "    .dataframe thead th {\n",
       "        text-align: left;\n",
       "    }\n",
       "\n",
       "    .dataframe tbody tr th {\n",
       "        vertical-align: top;\n",
       "    }\n",
       "</style>\n",
       "<table border=\"1\" class=\"dataframe\">\n",
       "  <thead>\n",
       "    <tr style=\"text-align: right;\">\n",
       "      <th></th>\n",
       "      <th>count</th>\n",
       "      <th>cum_count</th>\n",
       "      <th>f</th>\n",
       "      <th>f_bigote</th>\n",
       "      <th>f_gorro</th>\n",
       "      <th>x_M</th>\n",
       "    </tr>\n",
       "    <tr>\n",
       "      <th>tiempo</th>\n",
       "      <th></th>\n",
       "      <th></th>\n",
       "      <th></th>\n",
       "      <th></th>\n",
       "      <th></th>\n",
       "      <th></th>\n",
       "    </tr>\n",
       "  </thead>\n",
       "  <tbody>\n",
       "    <tr>\n",
       "      <th>1.44</th>\n",
       "      <td>1</td>\n",
       "      <td>215</td>\n",
       "      <td>0.981735</td>\n",
       "      <td>0.979452</td>\n",
       "      <td>0.972968</td>\n",
       "      <td>1.549385</td>\n",
       "    </tr>\n",
       "    <tr>\n",
       "      <th>1.51</th>\n",
       "      <td>1</td>\n",
       "      <td>216</td>\n",
       "      <td>0.986301</td>\n",
       "      <td>0.984018</td>\n",
       "      <td>0.977319</td>\n",
       "      <td>1.649613</td>\n",
       "    </tr>\n",
       "    <tr>\n",
       "      <th>1.72</th>\n",
       "      <td>1</td>\n",
       "      <td>217</td>\n",
       "      <td>0.990868</td>\n",
       "      <td>0.988584</td>\n",
       "      <td>0.986604</td>\n",
       "      <td>1.783802</td>\n",
       "    </tr>\n",
       "    <tr>\n",
       "      <th>1.83</th>\n",
       "      <td>1</td>\n",
       "      <td>218</td>\n",
       "      <td>0.995434</td>\n",
       "      <td>0.993151</td>\n",
       "      <td>0.989833</td>\n",
       "      <td>1.987526</td>\n",
       "    </tr>\n",
       "    <tr>\n",
       "      <th>1.96</th>\n",
       "      <td>1</td>\n",
       "      <td>219</td>\n",
       "      <td>1.000000</td>\n",
       "      <td>0.997717</td>\n",
       "      <td>0.992661</td>\n",
       "      <td>2.425667</td>\n",
       "    </tr>\n",
       "  </tbody>\n",
       "</table>\n",
       "</div>"
      ],
      "text/plain": [
       "        count  cum_count         f  f_bigote   f_gorro       x_M\n",
       "tiempo                                                          \n",
       "1.44        1        215  0.981735  0.979452  0.972968  1.549385\n",
       "1.51        1        216  0.986301  0.984018  0.977319  1.649613\n",
       "1.72        1        217  0.990868  0.988584  0.986604  1.783802\n",
       "1.83        1        218  0.995434  0.993151  0.989833  1.987526\n",
       "1.96        1        219  1.000000  0.997717  0.992661  2.425667"
      ]
     },
     "execution_count": 5,
     "metadata": {},
     "output_type": "execute_result"
    }
   ],
   "source": [
    "dt['cum_count'] = dt['count'].cumsum()\n",
    "dt['f'] = dt['cum_count'] / n\n",
    "dt['f_bigote'] = dt['f'] - 0.5 / n\n",
    "dt['f_gorro'] = x.cdf(dt.index)\n",
    "dt['x_M'] = x.ppf(dt['f_bigote'])\n",
    "dt.tail()"
   ]
  },
  {
   "cell_type": "markdown",
   "metadata": {},
   "source": [
    "## Q-Q Plot"
   ]
  },
  {
   "cell_type": "code",
   "execution_count": 6,
   "metadata": {},
   "outputs": [
    {
     "data": {
      "image/png": "[encoded data removed]",
      "text/plain": [
       "<matplotlib.figure.Figure at 0x1dee88435f8>"
      ]
     },
     "metadata": {},
     "output_type": "display_data"
    }
   ],
   "source": [
    "v_min = min(dt['x_M'].min(), dt.index.min())\n",
    "v_max = max(dt['x_M'].max(), dt.index.max())\n",
    "plt.plot([v_min, v_max], [v_min, v_max])\n",
    "plt.plot(dt.index, dt['x_M'], 'o', ls='None', alpha=0.3)\n",
    "plt.axis('equal');"
   ]
  },
  {
   "cell_type": "markdown",
   "metadata": {},
   "source": [
    "## P-P Plot"
   ]
  },
  {
   "cell_type": "code",
   "execution_count": 7,
   "metadata": {},
   "outputs": [
    {
     "data": {
      "image/png": "[encoded data removed]",
      "text/plain": [
       "<matplotlib.figure.Figure at 0x1dee9e8e908>"
      ]
     },
     "metadata": {},
     "output_type": "display_data"
    }
   ],
   "source": [
    "plt.plot([0, 1], [0, 1])\n",
    "plt.plot(dt['f_bigote'], dt['f_gorro'], 'o', ls='None', alpha=0.3)\n",
    "plt.axis('equal');"
   ]
  },
  {
   "cell_type": "markdown",
   "metadata": {},
   "source": [
    "## Ambos gráficos juntos"
   ]
  },
  {
   "cell_type": "code",
   "execution_count": 8,
   "metadata": {
    "scrolled": true
   },
   "outputs": [
    {
     "data": {
      "image/png": "[encoded data removed]",
      "text/plain": [
       "<matplotlib.figure.Figure at 0x1deea016710>"
      ]
     },
     "metadata": {},
     "output_type": "display_data"
    }
   ],
   "source": [
    "fig = plt.figure(figsize=(9, 4))\n",
    "fig.suptitle('Gráficos de probabilidad', fontsize=14, fontweight='bold')\n",
    "\n",
    "ax = fig.add_subplot(121)\n",
    "ax.set_title('Q-Q Plot')\n",
    "ax.set_xlabel('$x^s$')\n",
    "ax.set_ylabel('$x^M$')\n",
    "v_min = min(dt['x_M'].min(), dt.index.min())\n",
    "v_max = max(dt['x_M'].max(), dt.index.max())\n",
    "ax.plot([v_min, v_max], [v_min, v_max])\n",
    "ax.plot(dt.index, dt['x_M'], 'o', ls='None', alpha=0.3)\n",
    "ax.axis('equal')\n",
    "\n",
    "ax = fig.add_subplot(122)\n",
    "ax.set_title('P-P Plot')\n",
    "ax.set_xlabel('$\\widetilde{F}$')\n",
    "ax.set_ylabel('$\\hat{F}$')\n",
    "ax.plot([0, 1], [0, 1])\n",
    "ax.plot(dt['f_bigote'], dt['f_gorro'], 'o', ls='None', alpha=0.3)\n",
    "ax.axis('equal')\n",
    "\n",
    "fig.subplots_adjust(top=0.8, wspace=0.3)"
   ]
  }
 ],
 "metadata": {
  "kernelspec": {
   "display_name": "Python 3",
   "language": "python",
   "name": "python3"
  },
  "language_info": {
   "codemirror_mode": {
    "name": "ipython",
    "version": 3
   },
   "file_extension": ".py",
   "mimetype": "text/x-python",
   "name": "python",
   "nbconvert_exporter": "python",
   "pygments_lexer": "ipython3",
   "version": "3.6.2"
  }
 },
 "nbformat": 4,
 "nbformat_minor": 2
}
