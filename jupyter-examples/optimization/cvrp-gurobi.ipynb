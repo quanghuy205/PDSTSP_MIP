{
 "cells": [
  {
   "cell_type": "markdown",
   "metadata": {},
   "source": [
    "# Capacitated Vehicle Routing Problem\n",
    "\n",
    "<img src=\"http://neo.lcc.uma.es/dynamic/images/vrp.png\" width=\"400\" />\n",
    "\n",
    "- $n$ is the number of clientes\n",
    "- $N$ is set of clients, with $N=\\{1,2,...,n\\}$\n",
    "- $V$ is set of vetices (or nodes), with $V=\\{0\\}\\cup N$\n",
    "- $A$ is set of arcs, with $A=\\{(i,j)\\in V^2 : i\\neq j\\}$\n",
    "- $c_{ij}$ is cost of travel over arc $(i,j)\\in A$\n",
    "- $Q$ is the vehicle capacity\n",
    "- $q_i$ is the amount that has to be delivered to customer $i\\in N$\n",
    "\n",
    "Then, the formulation is the following\n",
    "$$\\begin{align}\n",
    "\\min \\quad & \\sum_{i,j\\in A} c_{ij} x_{ij} \\\\\n",
    "\\text{s.t.} \\quad & \\sum_{j\\in V , j\\neq i} x_{ij} = 1  && i \\in N \\\\\n",
    "& \\sum_{i\\in V , i\\neq j} x_{ij} = 1 && j \\in N \\\\\n",
    "& \\text{if} \\ x_{ij}=1 \\ \\Rightarrow \\ u_i + q_j = u_j && i,j \\in A : j\\neq 0, i\\neq 0 \\\\\n",
    "& q_i \\leq u_i \\leq Q && i \\in N \\\\\n",
    "& x_{ij} \\in \\{0,1\\} && i,j \\in A\n",
    "\\end{align}$$"
   ]
  },
  {
   "cell_type": "code",
   "execution_count": 1,
   "metadata": {},
   "outputs": [],
   "source": [
    "import numpy as np\n",
    "import matplotlib.pyplot as plt"
   ]
  },
  {
   "cell_type": "code",
   "execution_count": 2,
   "metadata": {},
   "outputs": [],
   "source": [
    "rnd = np.random\n",
    "rnd.seed(0)"
   ]
  },
  {
   "cell_type": "code",
   "execution_count": 3,
   "metadata": {},
   "outputs": [],
   "source": [
    "n = 20  # numbre of clients\n",
    "xc = rnd.rand(n+1)*200\n",
    "yc = rnd.rand(n+1)*100"
   ]
  },
  {
   "cell_type": "code",
   "execution_count": 4,
   "metadata": {},
   "outputs": [
    {
     "data": {
      "text/plain": [
       "<matplotlib.collections.PathCollection at 0x7fc6725ebc40>"
      ]
     },
     "execution_count": 4,
     "metadata": {},
     "output_type": "execute_result"
    },
    {
     "data": {
      "image/png": "[encoded data removed]",
      "text/plain": [
       "<Figure size 432x288 with 1 Axes>"
      ]
     },
     "metadata": {
      "needs_background": "light"
     },
     "output_type": "display_data"
    }
   ],
   "source": [
    "plt.plot(xc[0], yc[0], c='r', marker='s')\n",
    "plt.scatter(xc[1:], yc[1:], c='b')"
   ]
  },
  {
   "cell_type": "code",
   "execution_count": 5,
   "metadata": {},
   "outputs": [],
   "source": [
    "N = [i for i in range(1, n+1)]\n",
    "V = [0] + N\n",
    "A = [(i, j) for i in V for j in V if i != j]\n",
    "c = {(i, j): np.hypot(xc[i]-xc[j], yc[i]-yc[j]) for i, j in A}\n",
    "Q = 20\n",
    "q = {i: rnd.randint(1, 10) for i in N}"
   ]
  },
  {
   "cell_type": "code",
   "execution_count": 6,
   "metadata": {},
   "outputs": [],
   "source": [
    "from gurobipy import Model, GRB, quicksum"
   ]
  },
  {
   "cell_type": "code",
   "execution_count": 7,
   "metadata": {},
   "outputs": [
    {
     "name": "stdout",
     "output_type": "stream",
     "text": [
      "Academic license - for non-commercial use only - expires 2021-07-04\n",
      "Using license file /home/quanghuy205/gurobi.lic\n"
     ]
    }
   ],
   "source": [
    "mdl = Model('CVRP')"
   ]
  },
  {
   "cell_type": "code",
   "execution_count": 8,
   "metadata": {},
   "outputs": [],
   "source": [
    "x = mdl.addVars(A, vtype=GRB.BINARY)\n",
    "u = mdl.addVars(N, vtype=GRB.CONTINUOUS)"
   ]
  },
  {
   "cell_type": "code",
   "execution_count": 9,
   "metadata": {},
   "outputs": [],
   "source": [
    "mdl.modelSense = GRB.MINIMIZE\n",
    "mdl.setObjective(quicksum(x[i, j]*c[i, j] for i, j in A))"
   ]
  },
  {
   "cell_type": "code",
   "execution_count": 10,
   "metadata": {},
   "outputs": [
    {
     "data": {
      "text/plain": [
       "{1: <gurobi.Constr *Awaiting Model Update*>,\n",
       " 2: <gurobi.Constr *Awaiting Model Update*>,\n",
       " 3: <gurobi.Constr *Awaiting Model Update*>,\n",
       " 4: <gurobi.Constr *Awaiting Model Update*>,\n",
       " 5: <gurobi.Constr *Awaiting Model Update*>,\n",
       " 6: <gurobi.Constr *Awaiting Model Update*>,\n",
       " 7: <gurobi.Constr *Awaiting Model Update*>,\n",
       " 8: <gurobi.Constr *Awaiting Model Update*>,\n",
       " 9: <gurobi.Constr *Awaiting Model Update*>,\n",
       " 10: <gurobi.Constr *Awaiting Model Update*>,\n",
       " 11: <gurobi.Constr *Awaiting Model Update*>,\n",
       " 12: <gurobi.Constr *Awaiting Model Update*>,\n",
       " 13: <gurobi.Constr *Awaiting Model Update*>,\n",
       " 14: <gurobi.Constr *Awaiting Model Update*>,\n",
       " 15: <gurobi.Constr *Awaiting Model Update*>,\n",
       " 16: <gurobi.Constr *Awaiting Model Update*>,\n",
       " 17: <gurobi.Constr *Awaiting Model Update*>,\n",
       " 18: <gurobi.Constr *Awaiting Model Update*>,\n",
       " 19: <gurobi.Constr *Awaiting Model Update*>,\n",
       " 20: <gurobi.Constr *Awaiting Model Update*>}"
      ]
     },
     "execution_count": 10,
     "metadata": {},
     "output_type": "execute_result"
    }
   ],
   "source": [
    "mdl.addConstrs(quicksum(x[i, j] for j in V if j != i) == 1 for i in N)\n",
    "mdl.addConstrs(quicksum(x[i, j] for i in V if i != j) == 1 for j in N)\n",
    "mdl.addConstrs((x[i, j] == 1) >> (u[i]+q[j] == u[j])\n",
    "               for i, j in A if i != 0 and j != 0)\n",
    "mdl.addConstrs(u[i] >= q[i] for i in N)\n",
    "mdl.addConstrs(u[i] <= Q for i in N)"
   ]
  },
  {
   "cell_type": "code",
   "execution_count": 11,
   "metadata": {
    "scrolled": false
   },
   "outputs": [
    {
     "name": "stdout",
     "output_type": "stream",
     "text": [
      "Changed value of parameter MIPGap to 0.1\n",
      "   Prev: 0.0001  Min: 0.0  Max: inf  Default: 0.0001\n",
      "Changed value of parameter TimeLimit to 30.0\n",
      "   Prev: inf  Min: 0.0  Max: inf  Default: inf\n",
      "Gurobi Optimizer version 9.1.2 build v9.1.2rc0 (linux64)\n",
      "Thread count: 6 physical cores, 12 logical processors, using up to 12 threads\n",
      "Optimize a model with 80 rows, 440 columns and 840 nonzeros\n",
      "Model fingerprint: 0x447aee32\n",
      "Model has 380 general constraints\n",
      "Variable types: 20 continuous, 420 integer (420 binary)\n",
      "Coefficient statistics:\n",
      "  Matrix range     [1e+00, 1e+00]\n",
      "  Objective range  [3e+00, 2e+02]\n",
      "  Bounds range     [1e+00, 1e+00]\n",
      "  RHS range        [1e+00, 2e+01]\n",
      "Presolve added 748 rows and 109 columns\n",
      "Presolve time: 0.03s\n",
      "Presolved: 828 rows, 549 columns, 5625 nonzeros\n",
      "Variable types: 129 continuous, 420 integer (420 binary)\n",
      "Found heuristic solution: objective 2540.4720602\n",
      "\n",
      "Root relaxation: objective 4.516618e+02, 99 iterations, 0.00 seconds\n",
      "\n",
      "    Nodes    |    Current Node    |     Objective Bounds      |     Work\n",
      " Expl Unexpl |  Obj  Depth IntInf | Incumbent    BestBd   Gap | It/Node Time\n",
      "\n",
      "     0     0  451.66183    0   37 2540.47206  451.66183  82.2%     -    0s\n",
      "H    0     0                    1838.2215893  451.66183  75.4%     -    0s\n",
      "H    0     0                    1095.6481682  451.66183  58.8%     -    0s\n",
      "H    0     0                    1074.4929124  451.66183  58.0%     -    0s\n",
      "     0     0  469.55809    0   47 1074.49291  469.55809  56.3%     -    0s\n",
      "H    0     0                    1030.7692124  469.55809  54.4%     -    0s\n",
      "H    0     0                    1012.5551749  469.55809  53.6%     -    0s\n",
      "     0     0  469.55809    0   47 1012.55517  469.55809  53.6%     -    0s\n",
      "     0     0  481.98329    0   42 1012.55517  481.98329  52.4%     -    0s\n",
      "     0     0  481.98329    0   42 1012.55517  481.98329  52.4%     -    0s\n",
      "     0     0  483.26051    0   50 1012.55517  483.26051  52.3%     -    0s\n",
      "     0     0  483.70163    0   44 1012.55517  483.70163  52.2%     -    0s\n",
      "     0     0  483.70659    0   44 1012.55517  483.70659  52.2%     -    0s\n",
      "     0     0  484.77409    0   52 1012.55517  484.77409  52.1%     -    0s\n",
      "     0     0  485.80187    0   56 1012.55517  485.80187  52.0%     -    0s\n",
      "     0     0  485.80187    0   56 1012.55517  485.80187  52.0%     -    0s\n",
      "     0     0  486.00522    0   49 1012.55517  486.00522  52.0%     -    0s\n",
      "     0     0  486.04065    0   56 1012.55517  486.04065  52.0%     -    0s\n",
      "     0     0  486.05649    0   55 1012.55517  486.05649  52.0%     -    0s\n",
      "     0     0  487.46930    0   61 1012.55517  487.46930  51.9%     -    0s\n",
      "     0     0  487.52358    0   60 1012.55517  487.52358  51.9%     -    0s\n",
      "     0     0  487.53522    0   62 1012.55517  487.53522  51.9%     -    0s\n",
      "     0     0  487.55349    0   63 1012.55517  487.55349  51.8%     -    0s\n",
      "     0     0  487.55349    0   63 1012.55517  487.55349  51.8%     -    0s\n",
      "     0     0  498.33083    0   60 1012.55517  498.33083  50.8%     -    0s\n",
      "     0     0  501.38576    0   57 1012.55517  501.38576  50.5%     -    0s\n",
      "     0     0  501.86005    0   55 1012.55517  501.86005  50.4%     -    0s\n",
      "H    0     0                     997.3608153  501.86005  49.7%     -    0s\n",
      "     0     0  501.86089    0   55  997.36082  501.86089  49.7%     -    0s\n",
      "     0     0  502.97892    0   61  997.36082  502.97892  49.6%     -    0s\n",
      "     0     0  503.05347    0   63  997.36082  503.05347  49.6%     -    0s\n",
      "     0     0  503.05347    0   63  997.36082  503.05347  49.6%     -    0s\n",
      "H    0     0                     978.3228286  503.05347  48.6%     -    0s\n",
      "     0     0  503.05347    0   63  978.32283  503.05347  48.6%     -    0s\n",
      "     0     0  503.05347    0   63  978.32283  503.05347  48.6%     -    0s\n",
      "     0     0  503.05347    0   63  978.32283  503.05347  48.6%     -    0s\n",
      "H    0     0                     949.7844143  503.05347  47.0%     -    0s\n",
      "     0     2  550.36864    0   63  949.78441  550.36864  42.1%     -    0s\n",
      "H  151   178                     948.6321899  582.46362  38.6%  25.6    0s\n",
      "H  157   178                     940.9762223  582.46362  38.1%  24.9    0s\n",
      "H  218   225                     939.8239979  582.46362  38.0%  24.4    0s\n",
      "H 1471  1142                     926.6848170  592.91719  36.0%  23.8    1s\n",
      " 12882  9167  770.36604   36   24  926.68482  672.85003  27.4%  25.3    5s\n",
      " 34904 25957  824.65757   40   22  926.68482  696.71327  24.8%  23.7   10s\n",
      " 36417 25969  840.42114   41   64  926.68482  697.59653  24.7%  23.5   15s\n",
      " 36450 25991  879.36511   45   84  926.68482  697.59653  24.7%  23.5   20s\n",
      " 36478 26010  768.34352   28   82  926.68482  697.59653  24.7%  23.5   25s\n",
      "\n",
      "Cutting planes:\n",
      "  Gomory: 5\n",
      "  Implied bound: 6\n",
      "  Projected implied bound: 1\n",
      "  MIR: 31\n",
      "  Flow cover: 72\n",
      "  Zero half: 8\n",
      "  Relax-and-lift: 7\n",
      "\n",
      "Explored 36505 nodes (861701 simplex iterations) in 30.01 seconds\n",
      "Thread count was 12 (of 12 available processors)\n",
      "\n",
      "Solution count 10: 926.685 939.824 940.976 ... 1074.49\n",
      "\n",
      "Time limit reached\n",
      "Best objective 9.266848169794e+02, best bound 6.975965269872e+02, gap 24.7213%\n"
     ]
    }
   ],
   "source": [
    "mdl.Params.MIPGap = 0.1\n",
    "mdl.Params.TimeLimit = 30  # seconds\n",
    "mdl.optimize()"
   ]
  },
  {
   "cell_type": "code",
   "execution_count": 12,
   "metadata": {},
   "outputs": [],
   "source": [
    "active_arcs = [a for a in A if x[a].x > 0.99]"
   ]
  },
  {
   "cell_type": "code",
   "execution_count": 13,
   "metadata": {},
   "outputs": [
    {
     "data": {
      "text/plain": [
       "<matplotlib.collections.PathCollection at 0x7fc66f50c1c0>"
      ]
     },
     "execution_count": 13,
     "metadata": {},
     "output_type": "execute_result"
    },
    {
     "data": {
      "image/png": "[encoded data removed]",
      "text/plain": [
       "<Figure size 432x288 with 1 Axes>"
      ]
     },
     "metadata": {
      "needs_background": "light"
     },
     "output_type": "display_data"
    }
   ],
   "source": [
    "for i, j in active_arcs:\n",
    "    plt.plot([xc[i], xc[j]], [yc[i], yc[j]], c='g', zorder=0)\n",
    "plt.plot(xc[0], yc[0], c='r', marker='s')\n",
    "plt.scatter(xc[1:], yc[1:], c='b')"
   ]
  },
  {
   "cell_type": "code",
   "execution_count": null,
   "metadata": {},
   "outputs": [],
   "source": []
  }
 ],
 "metadata": {
  "kernelspec": {
   "display_name": "Python 3",
   "language": "python",
   "name": "python3"
  },
  "language_info": {
   "codemirror_mode": {
    "name": "ipython",
    "version": 3
   },
   "file_extension": ".py",
   "mimetype": "text/x-python",
   "name": "python",
   "nbconvert_exporter": "python",
   "pygments_lexer": "ipython3",
   "version": "3.8.5"
  }
 },
 "nbformat": 4,
 "nbformat_minor": 2
}
