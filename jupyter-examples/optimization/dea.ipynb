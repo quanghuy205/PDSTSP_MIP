{
 "cells": [
  {
   "cell_type": "code",
   "execution_count": 1,
   "metadata": {
    "collapsed": true
   },
   "outputs": [],
   "source": [
    "import xlwings as xw\n",
    "import numpy as np\n",
    "from docplex.mp.model import Model"
   ]
  },
  {
   "cell_type": "code",
   "execution_count": 2,
   "metadata": {
    "collapsed": true
   },
   "outputs": [],
   "source": [
    "x = xw.Range('B2:C7').value\n",
    "y = xw.Range('D2:E7').value\n",
    "unidades = xw.Range('A2:A7').value\n",
    "s = 2 # cantidad de output\n",
    "m = 2 # cantidad de input\n",
    "n = 6 # cantidad de unidades"
   ]
  },
  {
   "cell_type": "code",
   "execution_count": 3,
   "metadata": {},
   "outputs": [
    {
     "name": "stdout",
     "output_type": "stream",
     "text": [
      "Unidad A\n",
      "solution for: DEA\n",
      "objective: 0.989306\n",
      "u_0=0.047\n",
      "u_1=0.017\n",
      "v_0=0.001\n",
      "v_1=0.124\n",
      "\n",
      "Unidad B\n",
      "solution for: DEA\n",
      "objective: 1\n",
      "u_0=0.001\n",
      "u_1=0.023\n",
      "v_0=0.001\n",
      "v_1=0.066\n",
      "\n",
      "Unidad C\n",
      "solution for: DEA\n",
      "objective: 0.878357\n",
      "u_0=0.001\n",
      "u_1=0.029\n",
      "v_0=0.001\n",
      "v_1=0.082\n",
      "\n",
      "Unidad D\n",
      "solution for: DEA\n",
      "objective: 0.856125\n",
      "u_0=0.034\n",
      "u_1=0.001\n",
      "v_0=0.001\n",
      "v_1=0.076\n",
      "\n",
      "Unidad E\n",
      "solution for: DEA\n",
      "objective: 1\n",
      "u_0=0.024\n",
      "u_1=0.001\n",
      "v_0=0.089\n",
      "v_1=0.001\n",
      "\n",
      "Unidad F\n",
      "solution for: DEA\n",
      "objective: 0.64883\n",
      "u_0=0.019\n",
      "u_1=0.007\n",
      "v_0=0.001\n",
      "v_1=0.049\n",
      "\n"
     ]
    }
   ],
   "source": [
    "for k in range(n):\n",
    "    mdl = Model('DEA')\n",
    "    # Variables\n",
    "    u = mdl.continuous_var_dict([r for r in range(s)], name='u', lb=1e-3)\n",
    "    v = mdl.continuous_var_dict([i for i in range(m)], name='v', lb=1e-3)\n",
    "    # Objetivo\n",
    "    mdl.maximize(mdl.sum(u[r]*y[k][r] for r in range(s)))\n",
    "    # Restricción de normalidad\n",
    "    mdl.add_constraint(mdl.sum(v[i]*x[k][i] for i in range(m))==1)\n",
    "    # Restricción de todas las unidades\n",
    "    for j in range(n):\n",
    "        mdl.add_constraint(\n",
    "            mdl.sum(u[r]*y[j][r] for r in range(s)) <=\n",
    "            mdl.sum(v[i]*x[j][i] for i in range(m))\n",
    "        )\n",
    "    mdl.solve()\n",
    "    print('Unidad', unidades[k])\n",
    "    print(mdl.solution)"
   ]
  }
 ],
 "metadata": {
  "kernelspec": {
   "display_name": "Python 3",
   "language": "python",
   "name": "python3"
  },
  "language_info": {
   "codemirror_mode": {
    "name": "ipython",
    "version": 3
   },
   "file_extension": ".py",
   "mimetype": "text/x-python",
   "name": "python",
   "nbconvert_exporter": "python",
   "pygments_lexer": "ipython3",
   "version": "3.5.4"
  }
 },
 "nbformat": 4,
 "nbformat_minor": 2
}
