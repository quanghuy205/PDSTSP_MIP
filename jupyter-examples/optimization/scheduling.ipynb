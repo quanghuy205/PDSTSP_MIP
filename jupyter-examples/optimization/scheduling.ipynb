{
 "cells": [
  {
   "cell_type": "markdown",
   "metadata": {},
   "source": [
    "# Scheduling Model\n",
    "### Conjuntos\n",
    "- $A$ es el conjunto de tareas\n",
    "- $O$ es el conjunto de órdenes\n",
    "- $M$ es el conjunto de máquinas\n",
    "\n",
    "### Parámetros\n",
    "- $d_i$ duración de la tarea $i\\in A$\n",
    "- $\\tau_i$ tiempo más temprano para comenzar la tarea $i\\in A$\n",
    "- $T_o$ tiempo de entrega de la orden $o\\in O$\n",
    "- $p(i)$ conjunto de tareas que preceden a $i\\in A$\n",
    "- $m(i)$ conjunto de máquinas en las que se puede realizar la tarea $i\\in A$\n",
    "- $r(k) = \\{i\\in A \\ | \\ k \\in m(i) \\}$ conjunto de tareas que se pueden realizar en la máquina $k\\in M$\n",
    "- $r_0(k) = r(k) \\cup \\{0\\}$\n",
    "- $w(o)$ conjunto de tareas que componen la orden $o\\in O$\n",
    "\n",
    "### Variables\n",
    "- $x_{ijk}$ variable binaria igual 1 cuando en la máquina $k\\in M$ la tarea $j\\in r_0(k)$ se programa despues de la tarea $i\\in r_0(k):i\\neq j$\n",
    "- $t_{ik}$ tiempo en el que se comienza a trabajar la tarea $i\\in A$ en la máquina $k\\in m(i)$\n",
    "\n",
    "### Modelo\n",
    "\\begin{align}\n",
    "\\min \\quad & \\max_{i\\in A, \\ k \\in m(i)} \\{ t_{ik}+d_i \\} \\\\\n",
    "\\text{s.t.} \\quad & \\sum_{k\\in m(j)} \\sum_{i\\in r_0(k)} x_{ijk} = 1 && j \\in A \\\\\n",
    "& \\sum_{k\\in m(i)} \\sum_{j\\in r_0(k)} x_{ijk} = 1 && i \\in A \\\\\n",
    "& \\sum_{i\\in r_0(k)} x_{ihk} = \\sum_{j\\in r_0(k)} x_{hjk} && h\\in A,\\ k\\in m(h) \\\\\n",
    "& \\sum_{j\\in r(k)} x_{0jk} \\leq 1 && k \\in M \\\\\n",
    "& \\sum_{i\\in r(k)} x_{i0k} \\leq 1 && k \\in M \\\\\n",
    "& x_{ijk} = 1 \\ \\Rightarrow \\ t_{ik} + d_i \\leq t_{jk} && k\\in M,\\ i\\in r(k),\\ j\\in r(k),\\ i\\neq j\\\\\n",
    "& t_{ik} \\geq \\tau_i && i\\in A,\\ k \\in m(i) \\\\\n",
    "& t_{ig} +d_i \\leq t_{jh} && j \\in A , \\ i \\in p(j) , \\ g \\in m(i), \\ h \\in m(j) \\\\\n",
    "& x_{ijk} \\in\\{0,1\\} && k\\in M,\\ i\\in r_0(k),\\ j\\in r_0(k),\\ i\\neq j\n",
    "\\end{align}"
   ]
  },
  {
   "cell_type": "code",
   "execution_count": 1,
   "metadata": {
    "collapsed": true
   },
   "outputs": [],
   "source": [
    "import collections\n",
    "from docplex.mp.model import Model"
   ]
  },
  {
   "cell_type": "code",
   "execution_count": 2,
   "metadata": {
    "collapsed": true
   },
   "outputs": [],
   "source": [
    "Order = collections.namedtuple('Order', ['tasks', 'due_date'])\n",
    "Task = collections.namedtuple('Task',['machines','duration',\n",
    "                                      'earliest_start','precedence'])"
   ]
  },
  {
   "cell_type": "code",
   "execution_count": 3,
   "metadata": {
    "collapsed": true
   },
   "outputs": [],
   "source": [
    "tasks = {1: Task([1, 2], 5, 3, []),\n",
    "         2: Task([2, 3], 7, 3, [1]),\n",
    "         3: Task([1, 4], 8, 3, [1]),\n",
    "         4: Task([5], 2, 3, []),\n",
    "         5: Task([1, 5, 3], 5, 0, [4]),\n",
    "         6: Task([5], 9, 10, []),\n",
    "         7: Task([5], 4, 10, [2, 3]),\n",
    "         8: Task([5], 4, 10, []),\n",
    "         9: Task([3, 4], 4, 10, [8]),\n",
    "         10:Task([5], 4, 10, [9])}"
   ]
  },
  {
   "cell_type": "code",
   "execution_count": 4,
   "metadata": {
    "collapsed": true
   },
   "outputs": [],
   "source": [
    "orders = {1: Order(tasks=[1, 2, 3, 7], due_date=5),\n",
    "          2: Order([4, 5], 10),\n",
    "          3: Order([6], 6),\n",
    "          4: Order([8, 9, 10], 5)}"
   ]
  },
  {
   "cell_type": "code",
   "execution_count": 5,
   "metadata": {
    "collapsed": true
   },
   "outputs": [],
   "source": [
    "machines = [1, 2, 3, 4, 5]"
   ]
  },
  {
   "cell_type": "code",
   "execution_count": 6,
   "metadata": {},
   "outputs": [
    {
     "data": {
      "text/plain": [
       "{1: [1, 3, 5], 2: [1, 2], 3: [2, 5, 9], 4: [3, 9], 5: [4, 5, 6, 7, 8, 10]}"
      ]
     },
     "execution_count": 6,
     "metadata": {},
     "output_type": "execute_result"
    }
   ],
   "source": [
    "tasks_per_machine = {}\n",
    "for k in machines:\n",
    "    tasks_this_machine = []\n",
    "    for i, task in tasks.items():\n",
    "        if k in task.machines:\n",
    "            tasks_this_machine.append(i)\n",
    "    tasks_per_machine[k] = tasks_this_machine\n",
    "tasks_per_machine"
   ]
  },
  {
   "cell_type": "code",
   "execution_count": 7,
   "metadata": {
    "collapsed": true
   },
   "outputs": [],
   "source": [
    "tuples = [(i,j,k) for k in machines \n",
    "                  for i in tasks_per_machine[k]+[0] \n",
    "                  for j in tasks_per_machine[k]+[0]\n",
    "                  if i!=j]"
   ]
  },
  {
   "cell_type": "code",
   "execution_count": 8,
   "metadata": {
    "collapsed": true
   },
   "outputs": [],
   "source": [
    "mdl = Model('Scheduling')"
   ]
  },
  {
   "cell_type": "code",
   "execution_count": 9,
   "metadata": {
    "collapsed": true
   },
   "outputs": [],
   "source": [
    "x = mdl.binary_var_dict(tuples, name='x')\n",
    "t = mdl.continuous_var_dict([(i,k) for i, task in tasks.items() \n",
    "                                   for k in task.machines],name='t')\n",
    "y = mdl.continuous_var(name='y')"
   ]
  },
  {
   "cell_type": "code",
   "execution_count": 10,
   "metadata": {
    "collapsed": true
   },
   "outputs": [],
   "source": [
    "mdl.minimize(y)"
   ]
  },
  {
   "cell_type": "markdown",
   "metadata": {},
   "source": [
    "$$\\sum_{k\\in m(j)} \\sum_{i\\in r_0(k)} x_{ijk} = 1 \\qquad j \\in A$$"
   ]
  },
  {
   "cell_type": "code",
   "execution_count": 11,
   "metadata": {
    "collapsed": true
   },
   "outputs": [],
   "source": [
    "for j, task_j in tasks.items():\n",
    "    mdl.add_constraint(mdl.sum(x[(i,j,k)] for k in task_j.machines \n",
    "                                          for i in tasks_per_machine[k]+[0]\n",
    "                                          if i!=j)==1,ctname='in_%d'%j)"
   ]
  },
  {
   "cell_type": "markdown",
   "metadata": {},
   "source": [
    "$$\\sum_{k\\in m(i)} \\sum_{j\\in r_0(k)} x_{ijk} = 1 \\qquad i \\in A$$"
   ]
  },
  {
   "cell_type": "code",
   "execution_count": 12,
   "metadata": {
    "collapsed": true
   },
   "outputs": [],
   "source": [
    "for i, task_i in tasks.items():\n",
    "    mdl.add_constraint(mdl.sum(x[(i,j,k)] for k in task_i.machines\n",
    "                                          for j in tasks_per_machine[k]+[0]\n",
    "                                          if j!=i)==1,ctname='out_%d'%i)"
   ]
  },
  {
   "cell_type": "markdown",
   "metadata": {},
   "source": [
    "$$\\sum_{i\\in r_0(k)} x_{ihk} = \\sum_{j\\in r_0(k)} x_{hjk} \\qquad h\\in A,\\ k\\in m(h)$$"
   ]
  },
  {
   "cell_type": "code",
   "execution_count": 13,
   "metadata": {
    "collapsed": true
   },
   "outputs": [],
   "source": [
    "for h, task_h in tasks.items():\n",
    "    for k in task_h.machines:\n",
    "        mdl.add_constraint(\n",
    "            mdl.sum(x[(i,h,k)] for i in tasks_per_machine[k]+[0] if i!=h)==\n",
    "            mdl.sum(x[(h,j,k)] for j in tasks_per_machine[k]+[0] if j!=h),\n",
    "            ctname='flow_%d_%d'%(h,k)\n",
    "        )"
   ]
  },
  {
   "cell_type": "markdown",
   "metadata": {},
   "source": [
    "$$\\sum_{j\\in r(k)} x_{0jk} \\leq 1 \\qquad  k \\in M$$\n",
    "$$\\sum_{i\\in r(k)} x_{i0k} \\leq 1 \\qquad k \\in M $$"
   ]
  },
  {
   "cell_type": "code",
   "execution_count": 14,
   "metadata": {
    "collapsed": true
   },
   "outputs": [],
   "source": [
    "for k in machines:\n",
    "    mdl.add_constraint(mdl.sum(x[(0,j,k)] for j in tasks_per_machine[k])<=1,\n",
    "                       ctname='start_%d'%k)\n",
    "    mdl.add_constraint(mdl.sum(x[(i,0,k)] for i in tasks_per_machine[k])<=1,\n",
    "                       ctname='end_%d'%k)"
   ]
  },
  {
   "cell_type": "markdown",
   "metadata": {},
   "source": [
    "$$ x_{ijk} = 1 \\ \\Rightarrow \\ t_{ik} + d_i \\leq t_{jk} \\qquad  k\\in M,\\ i\\in r(k),\\ j\\in r(k),\\ i\\neq j$$"
   ]
  },
  {
   "cell_type": "code",
   "execution_count": 15,
   "metadata": {
    "collapsed": true
   },
   "outputs": [],
   "source": [
    "for i,j,k in tuples:\n",
    "    if i!=0 and j!=0:\n",
    "        mdl.add_indicator(x[(i,j,k)],\n",
    "                          t[(i,k)] + tasks[i].duration <= t[(j,k)],\n",
    "                          name='order_%d_%d_%d'%(i,j,k))"
   ]
  },
  {
   "cell_type": "markdown",
   "metadata": {},
   "source": [
    "$$ t_{ig} +d_i \\leq t_{jh} \\qquad j \\in A , \\ i \\in p(j) , \\ g \\in m(i), \\ h \\in m(j) $$"
   ]
  },
  {
   "cell_type": "code",
   "execution_count": 16,
   "metadata": {
    "collapsed": true
   },
   "outputs": [],
   "source": [
    "for j, task_j in tasks.items():\n",
    "    for i in task_j.precedence:\n",
    "        task_i = tasks[i]\n",
    "        for g in task_i.machines:\n",
    "            for h in task_j.machines:\n",
    "                mdl.add_constraint(t[(i,g)] + tasks[i].duration <= t[(j,h)],\n",
    "                                   ctname='pre_%d<%d_%d.%d'%(i,j,g,h))"
   ]
  },
  {
   "cell_type": "markdown",
   "metadata": {},
   "source": [
    "$$ t_{ik} \\geq \\tau_i \\qquad i\\in A,\\ k \\in m(i) $$\n",
    "$$ t_{ik} +d_i \\leq y \\qquad i\\in A,\\ k \\in m(i) $$"
   ]
  },
  {
   "cell_type": "code",
   "execution_count": 17,
   "metadata": {
    "collapsed": true
   },
   "outputs": [],
   "source": [
    "for i, task_i in tasks.items():\n",
    "    for k in task_i.machines:\n",
    "        mdl.add_constraint(t[(i,k)] >= task_i.earliest_start,\n",
    "                           ctname='earliest_start%d_%d'%(i,k))\n",
    "        mdl.add_constraint(t[(i,k)] + task_i.duration <= y,\n",
    "                           ctname='makespan_%d_%d'%(i,k))"
   ]
  },
  {
   "cell_type": "code",
   "execution_count": 18,
   "metadata": {},
   "outputs": [
    {
     "name": "stdout",
     "output_type": "stream",
     "text": [
      "CPXPARAM_Read_DataCheck                          1\n",
      "CPXPARAM_Read_APIEncoding                        \"UTF-8\"\n",
      "CPXPARAM_MIP_Strategy_CallbackReducedLP          0\n",
      "Tried aggregator 2 times.\n",
      "MIP Presolve eliminated 28 rows and 10 columns.\n",
      "MIP Presolve modified 80 coefficients.\n",
      "Aggregator did 23 substitutions.\n",
      "Reduced MIP has 87 rows, 108 columns, and 323 nonzeros.\n",
      "Reduced MIP has 73 binaries, 0 generals, 0 SOSs, and 40 indicators.\n",
      "Presolve time = 0.02 sec. (0.52 ticks)\n",
      "Probing time = 0.00 sec. (0.11 ticks)\n",
      "Tried aggregator 1 time.\n",
      "Reduced MIP has 87 rows, 108 columns, and 323 nonzeros.\n",
      "Reduced MIP has 73 binaries, 0 generals, 0 SOSs, and 40 indicators.\n",
      "Presolve time = 0.00 sec. (0.22 ticks)\n",
      "Probing time = 0.00 sec. (0.11 ticks)\n",
      "Clique table members: 163.\n",
      "MIP emphasis: balance optimality and feasibility.\n",
      "MIP search method: dynamic search.\n",
      "Parallel mode: deterministic, using up to 4 threads.\n",
      "Root relaxation solution time = 0.02 sec. (0.16 ticks)\n",
      "\n",
      "        Nodes                                         Cuts/\n",
      "   Node  Left     Objective  IInf  Best Integer    Best Bound    ItCnt     Gap\n",
      "\n",
      "      0     0       22.0000     5                     22.0000       27         \n",
      "*     0+    0                           41.0000       22.0000            46.34%\n",
      "      0     0       22.0000    18       41.0000       Cuts: 3       34   46.34%\n",
      "      0     0       22.0000     3       41.0000   Impl Bds: 1       38   46.34%\n",
      "*     0+    0                           35.0000       22.0000            37.14%\n",
      "      0     0       22.0000     3       35.0000   Impl Bds: 1       39   37.14%\n",
      "      0     2       22.0000     3       35.0000       22.0000       39   37.14%\n",
      "Elapsed time = 0.06 sec. (3.82 ticks, tree = 0.01 MB, solutions = 2)\n",
      "*    23+   10                           33.0000       22.0000            33.33%\n",
      "*    49+   13                           31.0000       22.0000            29.03%\n",
      "\n",
      "Clique cuts applied:  1\n",
      "Implied bound cuts applied:  7\n",
      "\n",
      "Root node processing (before b&c):\n",
      "  Real time             =    0.06 sec. (3.78 ticks)\n",
      "Parallel b&c, 4 threads:\n",
      "  Real time             =    0.13 sec. (6.61 ticks)\n",
      "  Sync time (average)   =    0.08 sec.\n",
      "  Wait time (average)   =    0.00 sec.\n",
      "                          ------------\n",
      "Total (root+branch&cut) =    0.19 sec. (10.39 ticks)\n"
     ]
    },
    {
     "data": {
      "text/plain": [
       "<JobSolveStatus.OPTIMAL_SOLUTION: 2>"
      ]
     },
     "execution_count": 18,
     "metadata": {},
     "output_type": "execute_result"
    }
   ],
   "source": [
    "solucion = mdl.solve(log_output=True)\n",
    "mdl.get_solve_status()"
   ]
  },
  {
   "cell_type": "code",
   "execution_count": 19,
   "metadata": {},
   "outputs": [
    {
     "data": {
      "text/plain": [
       "31.0"
      ]
     },
     "execution_count": 19,
     "metadata": {},
     "output_type": "execute_result"
    }
   ],
   "source": [
    "mdl.objective_value"
   ]
  },
  {
   "cell_type": "code",
   "execution_count": 20,
   "metadata": {},
   "outputs": [
    {
     "name": "stdout",
     "output_type": "stream",
     "text": [
      "solution for: Scheduling\n",
      "y: 31.000\n",
      "x_(3, 0, 1) = 1\n",
      "x_(10, 0, 5) = 1\n",
      "x_(0, 4, 5) = 1\n",
      "x_(0, 3, 1) = 1\n",
      "x_(1, 0, 2) = 1\n",
      "t_(1, 1) = 3.000\n",
      "t_(1, 2) = 3.000\n",
      "t_(2, 2) = 8.000\n",
      "t_(2, 3) = 10.000\n",
      "t_(3, 1) = 15.000\n",
      "t_(3, 4) = 8.000\n",
      "x_(2, 0, 3) = 1\n",
      "x_(5, 2, 3) = 1\n",
      "t_(5, 5) = 26.000\n",
      "t_(5, 3) = 5.000\n",
      "t_(6, 5) = 14.000\n",
      "t_(7, 5) = 23.000\n",
      "t_(8, 5) = 10.000\n",
      "t_(9, 3) = 14.000\n",
      "x_(0, 5, 3) = 1\n",
      "t_(10, 5) = 27.000\n",
      "y = 31.000\n",
      "x_(9, 0, 4) = 1\n",
      "x_(0, 9, 4) = 1\n",
      "x_(0, 1, 2) = 1\n",
      "x_(4, 8, 5) = 1\n",
      "t_(9, 4) = 14.000\n",
      "x_(6, 7, 5) = 1\n",
      "t_(4, 5) = 3.000\n",
      "x_(7, 10, 5) = 1\n",
      "x_(8, 6, 5) = 1\n",
      "t_(5, 1) = 26.000\n"
     ]
    }
   ],
   "source": [
    "solucion.display()"
   ]
  },
  {
   "cell_type": "code",
   "execution_count": 21,
   "metadata": {
    "collapsed": true
   },
   "outputs": [],
   "source": [
    "from bokeh.palettes import Spectral10\n",
    "import bokeh.palettes as bp\n",
    "from bokeh.plotting import figure, show, output_notebook, ColumnDataSource\n",
    "from bokeh.models import HoverTool"
   ]
  },
  {
   "cell_type": "code",
   "execution_count": 22,
   "metadata": {},
   "outputs": [
    {
     "data": {
      "text/html": [
       "\n",
       "    <div class=\"bk-root\">\n",
       "        <a href=\"https://bokeh.pydata.org\" target=\"_blank\" class=\"bk-logo bk-logo-small bk-logo-notebook\"></a>\n",
       "        <span id=\"0aa20a03-63b4-43c3-ad2d-55eca23c9555\">Loading BokehJS ...</span>\n",
       "    </div>"
      ]
     },
     "metadata": {},
     "output_type": "display_data"
    },
    {
     "data": {
      "application/javascript": [
       "\n",
       "(function(root) {\n",
       "  function now() {\n",
       "    return new Date();\n",
       "  }\n",
       "\n",
       "  var force = true;\n",
       "\n",
       "  if (typeof (root._bokeh_onload_callbacks) === \"undefined\" || force === true) {\n",
       "    root._bokeh_onload_callbacks = [];\n",
       "    root._bokeh_is_loading = undefined;\n",
       "  }\n",
       "\n",
       "\n",
       "  \n",
       "  if (typeof (root._bokeh_timeout) === \"undefined\" || force === true) {\n",
       "    root._bokeh_timeout = Date.now() + 5000;\n",
       "    root._bokeh_failed_load = false;\n",
       "  }\n",
       "\n",
       "  var NB_LOAD_WARNING = {'data': {'text/html':\n",
       "     \"<div style='background-color: #fdd'>\\n\"+\n",
       "     \"<p>\\n\"+\n",
       "     \"BokehJS does not appear to have successfully loaded. If loading BokehJS from CDN, this \\n\"+\n",
       "     \"may be due to a slow or bad network connection. Possible fixes:\\n\"+\n",
       "     \"</p>\\n\"+\n",
       "     \"<ul>\\n\"+\n",
       "     \"<li>re-rerun `output_notebook()` to attempt to load from CDN again, or</li>\\n\"+\n",
       "     \"<li>use INLINE resources instead, as so:</li>\\n\"+\n",
       "     \"</ul>\\n\"+\n",
       "     \"<code>\\n\"+\n",
       "     \"from bokeh.resources import INLINE\\n\"+\n",
       "     \"output_notebook(resources=INLINE)\\n\"+\n",
       "     \"</code>\\n\"+\n",
       "     \"</div>\"}};\n",
       "\n",
       "  function display_loaded() {\n",
       "    if (root.Bokeh !== undefined) {\n",
       "      var el = document.getElementById(\"0aa20a03-63b4-43c3-ad2d-55eca23c9555\");\n",
       "      if (el != null) {\n",
       "        el.textContent = \"BokehJS \" + Bokeh.version + \" successfully loaded.\";\n",
       "      }\n",
       "    } else if (Date.now() < root._bokeh_timeout) {\n",
       "      setTimeout(display_loaded, 100)\n",
       "    }\n",
       "  }\n",
       "\n",
       "\n",
       "  function run_callbacks() {\n",
       "    try {\n",
       "      root._bokeh_onload_callbacks.forEach(function(callback) { callback() });\n",
       "    }\n",
       "    finally {\n",
       "      delete root._bokeh_onload_callbacks\n",
       "    }\n",
       "    console.info(\"Bokeh: all callbacks have finished\");\n",
       "  }\n",
       "\n",
       "  function load_libs(js_urls, callback) {\n",
       "    root._bokeh_onload_callbacks.push(callback);\n",
       "    if (root._bokeh_is_loading > 0) {\n",
       "      console.log(\"Bokeh: BokehJS is being loaded, scheduling callback at\", now());\n",
       "      return null;\n",
       "    }\n",
       "    if (js_urls == null || js_urls.length === 0) {\n",
       "      run_callbacks();\n",
       "      return null;\n",
       "    }\n",
       "    console.log(\"Bokeh: BokehJS not loaded, scheduling load and callback at\", now());\n",
       "    root._bokeh_is_loading = js_urls.length;\n",
       "    for (var i = 0; i < js_urls.length; i++) {\n",
       "      var url = js_urls[i];\n",
       "      var s = document.createElement('script');\n",
       "      s.src = url;\n",
       "      s.async = false;\n",
       "      s.onreadystatechange = s.onload = function() {\n",
       "        root._bokeh_is_loading--;\n",
       "        if (root._bokeh_is_loading === 0) {\n",
       "          console.log(\"Bokeh: all BokehJS libraries loaded\");\n",
       "          run_callbacks()\n",
       "        }\n",
       "      };\n",
       "      s.onerror = function() {\n",
       "        console.warn(\"failed to load library \" + url);\n",
       "      };\n",
       "      console.log(\"Bokeh: injecting script tag for BokehJS library: \", url);\n",
       "      document.getElementsByTagName(\"head\")[0].appendChild(s);\n",
       "    }\n",
       "  };var element = document.getElementById(\"0aa20a03-63b4-43c3-ad2d-55eca23c9555\");\n",
       "  if (element == null) {\n",
       "    console.log(\"Bokeh: ERROR: autoload.js configured with elementid '0aa20a03-63b4-43c3-ad2d-55eca23c9555' but no matching script tag was found. \")\n",
       "    return false;\n",
       "  }\n",
       "\n",
       "  var js_urls = [\"https://cdn.pydata.org/bokeh/release/bokeh-0.12.7.min.js\", \"https://cdn.pydata.org/bokeh/release/bokeh-widgets-0.12.7.min.js\", \"https://cdn.pydata.org/bokeh/release/bokeh-tables-0.12.7.min.js\", \"https://cdn.pydata.org/bokeh/release/bokeh-gl-0.12.7.min.js\"];\n",
       "\n",
       "  var inline_js = [\n",
       "    function(Bokeh) {\n",
       "      Bokeh.set_log_level(\"info\");\n",
       "    },\n",
       "    \n",
       "    function(Bokeh) {\n",
       "      \n",
       "    },\n",
       "    \n",
       "    function(Bokeh) {\n",
       "      \n",
       "      document.getElementById(\"0aa20a03-63b4-43c3-ad2d-55eca23c9555\").textContent = \"BokehJS is loading...\";\n",
       "    },\n",
       "    function(Bokeh) {\n",
       "      console.log(\"Bokeh: injecting CSS: https://cdn.pydata.org/bokeh/release/bokeh-0.12.7.min.css\");\n",
       "      Bokeh.embed.inject_css(\"https://cdn.pydata.org/bokeh/release/bokeh-0.12.7.min.css\");\n",
       "      console.log(\"Bokeh: injecting CSS: https://cdn.pydata.org/bokeh/release/bokeh-widgets-0.12.7.min.css\");\n",
       "      Bokeh.embed.inject_css(\"https://cdn.pydata.org/bokeh/release/bokeh-widgets-0.12.7.min.css\");\n",
       "      console.log(\"Bokeh: injecting CSS: https://cdn.pydata.org/bokeh/release/bokeh-tables-0.12.7.min.css\");\n",
       "      Bokeh.embed.inject_css(\"https://cdn.pydata.org/bokeh/release/bokeh-tables-0.12.7.min.css\");\n",
       "    }\n",
       "  ];\n",
       "\n",
       "  function run_inline_js() {\n",
       "    \n",
       "    if ((root.Bokeh !== undefined) || (force === true)) {\n",
       "      for (var i = 0; i < inline_js.length; i++) {\n",
       "        inline_js[i].call(root, root.Bokeh);\n",
       "      }if (force === true) {\n",
       "        display_loaded();\n",
       "      }} else if (Date.now() < root._bokeh_timeout) {\n",
       "      setTimeout(run_inline_js, 100);\n",
       "    } else if (!root._bokeh_failed_load) {\n",
       "      console.log(\"Bokeh: BokehJS failed to load within specified timeout.\");\n",
       "      root._bokeh_failed_load = true;\n",
       "    } else if (force !== true) {\n",
       "      var cell = $(document.getElementById(\"0aa20a03-63b4-43c3-ad2d-55eca23c9555\")).parents('.cell').data().cell;\n",
       "      cell.output_area.append_execute_result(NB_LOAD_WARNING)\n",
       "    }\n",
       "\n",
       "  }\n",
       "\n",
       "  if (root._bokeh_is_loading === 0) {\n",
       "    console.log(\"Bokeh: BokehJS loaded, going straight to plotting\");\n",
       "    run_inline_js();\n",
       "  } else {\n",
       "    load_libs(js_urls, function() {\n",
       "      console.log(\"Bokeh: BokehJS plotting callback run at\", now());\n",
       "      run_inline_js();\n",
       "    });\n",
       "  }\n",
       "}(window));"
      ]
     },
     "metadata": {},
     "output_type": "display_data"
    },
    {
     "data": {
      "text/html": [
       "\n",
       "\n",
       "    <div class=\"bk-root\">\n",
       "        <div class=\"bk-plotdiv\" id=\"8a9e96c8-d797-4f76-b44d-9288326cde15\"></div>\n",
       "    </div>\n",
       "<script type=\"text/javascript\">\n",
       "  \n",
       "  (function(root) {\n",
       "    function now() {\n",
       "      return new Date();\n",
       "    }\n",
       "  \n",
       "    var force = false;\n",
       "  \n",
       "    if (typeof (root._bokeh_onload_callbacks) === \"undefined\" || force === true) {\n",
       "      root._bokeh_onload_callbacks = [];\n",
       "      root._bokeh_is_loading = undefined;\n",
       "    }\n",
       "  \n",
       "  \n",
       "    \n",
       "    if (typeof (root._bokeh_timeout) === \"undefined\" || force === true) {\n",
       "      root._bokeh_timeout = Date.now() + 0;\n",
       "      root._bokeh_failed_load = false;\n",
       "    }\n",
       "  \n",
       "    var NB_LOAD_WARNING = {'data': {'text/html':\n",
       "       \"<div style='background-color: #fdd'>\\n\"+\n",
       "       \"<p>\\n\"+\n",
       "       \"BokehJS does not appear to have successfully loaded. If loading BokehJS from CDN, this \\n\"+\n",
       "       \"may be due to a slow or bad network connection. Possible fixes:\\n\"+\n",
       "       \"</p>\\n\"+\n",
       "       \"<ul>\\n\"+\n",
       "       \"<li>re-rerun `output_notebook()` to attempt to load from CDN again, or</li>\\n\"+\n",
       "       \"<li>use INLINE resources instead, as so:</li>\\n\"+\n",
       "       \"</ul>\\n\"+\n",
       "       \"<code>\\n\"+\n",
       "       \"from bokeh.resources import INLINE\\n\"+\n",
       "       \"output_notebook(resources=INLINE)\\n\"+\n",
       "       \"</code>\\n\"+\n",
       "       \"</div>\"}};\n",
       "  \n",
       "    function display_loaded() {\n",
       "      if (root.Bokeh !== undefined) {\n",
       "        var el = document.getElementById(\"8a9e96c8-d797-4f76-b44d-9288326cde15\");\n",
       "        if (el != null) {\n",
       "          el.textContent = \"BokehJS \" + Bokeh.version + \" successfully loaded.\";\n",
       "        }\n",
       "      } else if (Date.now() < root._bokeh_timeout) {\n",
       "        setTimeout(display_loaded, 100)\n",
       "      }\n",
       "    }\n",
       "  \n",
       "  \n",
       "    function run_callbacks() {\n",
       "      try {\n",
       "        root._bokeh_onload_callbacks.forEach(function(callback) { callback() });\n",
       "      }\n",
       "      finally {\n",
       "        delete root._bokeh_onload_callbacks\n",
       "      }\n",
       "      console.info(\"Bokeh: all callbacks have finished\");\n",
       "    }\n",
       "  \n",
       "    function load_libs(js_urls, callback) {\n",
       "      root._bokeh_onload_callbacks.push(callback);\n",
       "      if (root._bokeh_is_loading > 0) {\n",
       "        console.log(\"Bokeh: BokehJS is being loaded, scheduling callback at\", now());\n",
       "        return null;\n",
       "      }\n",
       "      if (js_urls == null || js_urls.length === 0) {\n",
       "        run_callbacks();\n",
       "        return null;\n",
       "      }\n",
       "      console.log(\"Bokeh: BokehJS not loaded, scheduling load and callback at\", now());\n",
       "      root._bokeh_is_loading = js_urls.length;\n",
       "      for (var i = 0; i < js_urls.length; i++) {\n",
       "        var url = js_urls[i];\n",
       "        var s = document.createElement('script');\n",
       "        s.src = url;\n",
       "        s.async = false;\n",
       "        s.onreadystatechange = s.onload = function() {\n",
       "          root._bokeh_is_loading--;\n",
       "          if (root._bokeh_is_loading === 0) {\n",
       "            console.log(\"Bokeh: all BokehJS libraries loaded\");\n",
       "            run_callbacks()\n",
       "          }\n",
       "        };\n",
       "        s.onerror = function() {\n",
       "          console.warn(\"failed to load library \" + url);\n",
       "        };\n",
       "        console.log(\"Bokeh: injecting script tag for BokehJS library: \", url);\n",
       "        document.getElementsByTagName(\"head\")[0].appendChild(s);\n",
       "      }\n",
       "    };var element = document.getElementById(\"8a9e96c8-d797-4f76-b44d-9288326cde15\");\n",
       "    if (element == null) {\n",
       "      console.log(\"Bokeh: ERROR: autoload.js configured with elementid '8a9e96c8-d797-4f76-b44d-9288326cde15' but no matching script tag was found. \")\n",
       "      return false;\n",
       "    }\n",
       "  \n",
       "    var js_urls = [];\n",
       "  \n",
       "    var inline_js = [\n",
       "      function(Bokeh) {\n",
       "        (function() {\n",
       "          var fn = function() {\n",
       "            var docs_json = {\"ffc68cad-3884-4a1a-a5f8-10c7154db2a0\":{\"roots\":{\"references\":[{\"attributes\":{\"source\":{\"id\":\"a14bcc2c-0931-440b-a922-da55b80ef164\",\"type\":\"ColumnDataSource\"}},\"id\":\"4e1f08d3-3bbd-4de0-8bba-c63bbeb1e8db\",\"type\":\"CDSView\"},{\"attributes\":{\"plot\":{\"id\":\"5e81be17-ca30-497a-984e-c2545538765b\",\"subtype\":\"Figure\",\"type\":\"Plot\"},\"ticker\":{\"id\":\"0125f8b6-c2e1-428f-af1f-b2b5e20abfb5\",\"type\":\"BasicTicker\"}},\"id\":\"5d6810ac-d1d7-4cef-baed-26c1a07290e1\",\"type\":\"Grid\"},{\"attributes\":{\"plot\":null,\"text\":\"\"},\"id\":\"c9a5358e-a895-4e4f-9366-b9187ff91c2f\",\"type\":\"Title\"},{\"attributes\":{},\"id\":\"0125f8b6-c2e1-428f-af1f-b2b5e20abfb5\",\"type\":\"BasicTicker\"},{\"attributes\":{},\"id\":\"95b7c5e3-8ce8-4f05-9022-2be38f1eb23e\",\"type\":\"LinearScale\"},{\"attributes\":{\"callback\":null},\"id\":\"d8ebd795-d2b2-4f71-bb64-b2c39ff20550\",\"type\":\"DataRange1d\"},{\"attributes\":{},\"id\":\"55fb0ce5-141b-41bb-b42e-9f7d5de35e5e\",\"type\":\"BasicTickFormatter\"},{\"attributes\":{\"callback\":null,\"tooltips\":[[\"task\",\"@task\"],[\"start\",\"@left\"],[\"end\",\"@right\"]]},\"id\":\"72b25ef4-cf2b-4f9d-a9cf-74918ed09f08\",\"type\":\"HoverTool\"},{\"attributes\":{\"data_source\":{\"id\":\"a14bcc2c-0931-440b-a922-da55b80ef164\",\"type\":\"ColumnDataSource\"},\"glyph\":{\"id\":\"566ac618-f2fd-4e7c-9cec-ec04daad5eef\",\"type\":\"Quad\"},\"hover_glyph\":null,\"muted_glyph\":null,\"nonselection_glyph\":{\"id\":\"53816393-8309-4bf4-aa42-976e241ddf93\",\"type\":\"Quad\"},\"selection_glyph\":null,\"view\":{\"id\":\"4e1f08d3-3bbd-4de0-8bba-c63bbeb1e8db\",\"type\":\"CDSView\"}},\"id\":\"60ac07ea-bbd8-4aaf-a038-3340aea38537\",\"type\":\"GlyphRenderer\"},{\"attributes\":{},\"id\":\"2d347fed-8df1-47f7-9b29-f822b6fd7e65\",\"type\":\"SaveTool\"},{\"attributes\":{\"below\":[{\"id\":\"1e3ba7e7-72ce-49ed-9b03-c3d8106bb94a\",\"type\":\"LinearAxis\"}],\"left\":[{\"id\":\"355cb70d-a2eb-4e21-be50-0e65ee9edf26\",\"type\":\"LinearAxis\"}],\"plot_height\":400,\"plot_width\":800,\"renderers\":[{\"id\":\"1e3ba7e7-72ce-49ed-9b03-c3d8106bb94a\",\"type\":\"LinearAxis\"},{\"id\":\"5d6810ac-d1d7-4cef-baed-26c1a07290e1\",\"type\":\"Grid\"},{\"id\":\"355cb70d-a2eb-4e21-be50-0e65ee9edf26\",\"type\":\"LinearAxis\"},{\"id\":\"dce3d32d-0e81-4c9b-b894-6ad63fa35378\",\"type\":\"Grid\"},{\"id\":\"60ac07ea-bbd8-4aaf-a038-3340aea38537\",\"type\":\"GlyphRenderer\"}],\"title\":{\"id\":\"c9a5358e-a895-4e4f-9366-b9187ff91c2f\",\"type\":\"Title\"},\"toolbar\":{\"id\":\"e63e2f0e-006e-4b74-824f-be986caab767\",\"type\":\"Toolbar\"},\"x_range\":{\"id\":\"21abb76c-2638-459c-8a0b-7f70cc4f2127\",\"type\":\"DataRange1d\"},\"x_scale\":{\"id\":\"4534786d-7f91-40eb-b0c4-07485144d46d\",\"type\":\"LinearScale\"},\"y_range\":{\"id\":\"d8ebd795-d2b2-4f71-bb64-b2c39ff20550\",\"type\":\"DataRange1d\"},\"y_scale\":{\"id\":\"95b7c5e3-8ce8-4f05-9022-2be38f1eb23e\",\"type\":\"LinearScale\"}},\"id\":\"5e81be17-ca30-497a-984e-c2545538765b\",\"subtype\":\"Figure\",\"type\":\"Plot\"},{\"attributes\":{\"callback\":null},\"id\":\"21abb76c-2638-459c-8a0b-7f70cc4f2127\",\"type\":\"DataRange1d\"},{\"attributes\":{},\"id\":\"97cb03b7-f6c3-43f5-a804-de4a25c57372\",\"type\":\"ResetTool\"},{\"attributes\":{\"formatter\":{\"id\":\"55fb0ce5-141b-41bb-b42e-9f7d5de35e5e\",\"type\":\"BasicTickFormatter\"},\"plot\":{\"id\":\"5e81be17-ca30-497a-984e-c2545538765b\",\"subtype\":\"Figure\",\"type\":\"Plot\"},\"ticker\":{\"id\":\"09510731-c214-470c-bda2-4d8ad71f9f77\",\"type\":\"BasicTicker\"}},\"id\":\"355cb70d-a2eb-4e21-be50-0e65ee9edf26\",\"type\":\"LinearAxis\"},{\"attributes\":{\"active_drag\":\"auto\",\"active_inspect\":\"auto\",\"active_scroll\":\"auto\",\"active_tap\":\"auto\",\"tools\":[{\"id\":\"72b25ef4-cf2b-4f9d-a9cf-74918ed09f08\",\"type\":\"HoverTool\"},{\"id\":\"2d347fed-8df1-47f7-9b29-f822b6fd7e65\",\"type\":\"SaveTool\"},{\"id\":\"bbd1b5a9-1c9b-438d-9999-b4a0438b63b0\",\"type\":\"ZoomInTool\"},{\"id\":\"28aba7f6-4a20-43f4-9544-e5e5d72f5bf9\",\"type\":\"ZoomOutTool\"},{\"id\":\"97cb03b7-f6c3-43f5-a804-de4a25c57372\",\"type\":\"ResetTool\"},{\"id\":\"05eea7a3-5a57-431a-8d27-b21fe6610e58\",\"type\":\"PanTool\"}]},\"id\":\"e63e2f0e-006e-4b74-824f-be986caab767\",\"type\":\"Toolbar\"},{\"attributes\":{},\"id\":\"faea591a-80b0-4c45-957d-5bfd307af8ea\",\"type\":\"BasicTickFormatter\"},{\"attributes\":{\"dimensions\":\"width\"},\"id\":\"28aba7f6-4a20-43f4-9544-e5e5d72f5bf9\",\"type\":\"ZoomOutTool\"},{\"attributes\":{\"dimension\":1,\"plot\":{\"id\":\"5e81be17-ca30-497a-984e-c2545538765b\",\"subtype\":\"Figure\",\"type\":\"Plot\"},\"ticker\":{\"id\":\"09510731-c214-470c-bda2-4d8ad71f9f77\",\"type\":\"BasicTicker\"}},\"id\":\"dce3d32d-0e81-4c9b-b894-6ad63fa35378\",\"type\":\"Grid\"},{\"attributes\":{},\"id\":\"4534786d-7f91-40eb-b0c4-07485144d46d\",\"type\":\"LinearScale\"},{\"attributes\":{\"bottom\":{\"field\":\"bottom\"},\"fill_alpha\":{\"value\":0.1},\"fill_color\":{\"value\":\"#1f77b4\"},\"left\":{\"field\":\"left\"},\"line_alpha\":{\"value\":0.1},\"line_color\":{\"value\":\"#1f77b4\"},\"right\":{\"field\":\"right\"},\"top\":{\"field\":\"top\"}},\"id\":\"53816393-8309-4bf4-aa42-976e241ddf93\",\"type\":\"Quad\"},{\"attributes\":{\"dimensions\":\"width\"},\"id\":\"bbd1b5a9-1c9b-438d-9999-b4a0438b63b0\",\"type\":\"ZoomInTool\"},{\"attributes\":{\"formatter\":{\"id\":\"faea591a-80b0-4c45-957d-5bfd307af8ea\",\"type\":\"BasicTickFormatter\"},\"plot\":{\"id\":\"5e81be17-ca30-497a-984e-c2545538765b\",\"subtype\":\"Figure\",\"type\":\"Plot\"},\"ticker\":{\"id\":\"0125f8b6-c2e1-428f-af1f-b2b5e20abfb5\",\"type\":\"BasicTicker\"}},\"id\":\"1e3ba7e7-72ce-49ed-9b03-c3d8106bb94a\",\"type\":\"LinearAxis\"},{\"attributes\":{},\"id\":\"09510731-c214-470c-bda2-4d8ad71f9f77\",\"type\":\"BasicTicker\"},{\"attributes\":{\"dimensions\":\"width\"},\"id\":\"05eea7a3-5a57-431a-8d27-b21fe6610e58\",\"type\":\"PanTool\"},{\"attributes\":{\"bottom\":{\"field\":\"bottom\"},\"fill_alpha\":{\"value\":0.8},\"fill_color\":{\"field\":\"color\"},\"left\":{\"field\":\"left\"},\"line_alpha\":{\"value\":0.8},\"right\":{\"field\":\"right\"},\"top\":{\"field\":\"top\"}},\"id\":\"566ac618-f2fd-4e7c-9cec-ec04daad5eef\",\"type\":\"Quad\"},{\"attributes\":{\"callback\":null,\"column_names\":[\"bottom\",\"color\",\"top\",\"task\",\"right\",\"left\"],\"data\":{\"bottom\":[0.75,1.75,2.75,2.75,3.75,4.75,4.75,4.75,4.75,4.75],\"color\":[\"#2b83ba\",\"#2b83ba\",\"#2b83ba\",\"#abdda4\",\"#d7191c\",\"#abdda4\",\"#fdae61\",\"#2b83ba\",\"#d7191c\",\"#d7191c\"],\"left\":[15.0,3.0,10.0,5.0,14.0,3.0,14.0,23.0,10.0,27.0],\"right\":[23.0,8.0,17.0,10.0,18.0,5.0,23.0,27.0,14.0,31.0],\"task\":[3,1,2,5,9,4,6,7,8,10],\"top\":[1.25,2.25,3.25,3.25,4.25,5.25,5.25,5.25,5.25,5.25]}},\"id\":\"a14bcc2c-0931-440b-a922-da55b80ef164\",\"type\":\"ColumnDataSource\"}],\"root_ids\":[\"5e81be17-ca30-497a-984e-c2545538765b\"]},\"title\":\"Bokeh Application\",\"version\":\"0.12.7\"}};\n",
       "            var render_items = [{\"docid\":\"ffc68cad-3884-4a1a-a5f8-10c7154db2a0\",\"elementid\":\"8a9e96c8-d797-4f76-b44d-9288326cde15\",\"modelid\":\"5e81be17-ca30-497a-984e-c2545538765b\",\"notebook_comms_target\":\"c44e03a7-abc7-4b44-be8d-d9abf644201e\"}];\n",
       "            \n",
       "            Bokeh.embed.embed_items(docs_json, render_items);\n",
       "          };\n",
       "          if (document.readyState != \"loading\") fn();\n",
       "          else document.addEventListener(\"DOMContentLoaded\", fn);\n",
       "        })();\n",
       "      },\n",
       "      function(Bokeh) {\n",
       "      }\n",
       "    ];\n",
       "  \n",
       "    function run_inline_js() {\n",
       "      \n",
       "      if ((root.Bokeh !== undefined) || (force === true)) {\n",
       "        for (var i = 0; i < inline_js.length; i++) {\n",
       "          inline_js[i].call(root, root.Bokeh);\n",
       "        }if (force === true) {\n",
       "          display_loaded();\n",
       "        }} else if (Date.now() < root._bokeh_timeout) {\n",
       "        setTimeout(run_inline_js, 100);\n",
       "      } else if (!root._bokeh_failed_load) {\n",
       "        console.log(\"Bokeh: BokehJS failed to load within specified timeout.\");\n",
       "        root._bokeh_failed_load = true;\n",
       "      } else if (force !== true) {\n",
       "        var cell = $(document.getElementById(\"8a9e96c8-d797-4f76-b44d-9288326cde15\")).parents('.cell').data().cell;\n",
       "        cell.output_area.append_execute_result(NB_LOAD_WARNING)\n",
       "      }\n",
       "  \n",
       "    }\n",
       "  \n",
       "    if (root._bokeh_is_loading === 0) {\n",
       "      console.log(\"Bokeh: BokehJS loaded, going straight to plotting\");\n",
       "      run_inline_js();\n",
       "    } else {\n",
       "      load_libs(js_urls, function() {\n",
       "        console.log(\"Bokeh: BokehJS plotting callback run at\", now());\n",
       "        run_inline_js();\n",
       "      });\n",
       "    }\n",
       "  }(window));\n",
       "</script>"
      ]
     },
     "metadata": {},
     "output_type": "display_data"
    }
   ],
   "source": [
    "output_notebook()\n",
    "palette = bp.all_palettes['Spectral'][len(orders)]\n",
    "color = 0\n",
    "task_color = {}\n",
    "for o in orders.values():\n",
    "    for i in o.tasks:\n",
    "        task_color[i] = palette[color]\n",
    "    color = color + 1\n",
    "graph_data = {'left': [], 'bottom': [], 'right': [],\n",
    "              'top': [], 'task': [], 'color': []}\n",
    "for k in machines:\n",
    "    arcos_activos = [(i, j) for i in tasks_per_machine[k]+[0]\n",
    "                            for j in tasks_per_machine[k]+[0]\n",
    "                            if i!=j and x[i,j,k].solution_value > 0.9]\n",
    "    for i, j in arcos_activos:\n",
    "        if i!=0:\n",
    "            graph_data['left'].append(t[(i, k)].solution_value)\n",
    "            graph_data['right'].append(t[(i, k)].solution_value + \n",
    "                                       tasks[i].duration)\n",
    "            graph_data['bottom'].append(k - 0.25)\n",
    "            graph_data['top'].append(k + 0.25)\n",
    "            graph_data['task'].append(i)\n",
    "            graph_data['color'].append(task_color[i])\n",
    "source = ColumnDataSource(data=graph_data)\n",
    "hover = HoverTool(tooltips = [(\"task\", \"@task\"),('start', '@left'),\n",
    "                              ('end', '@right')])      \n",
    "p = figure(plot_width=800, plot_height=400, \n",
    "           tools=[hover, 'save,xzoom_in,xzoom_out,reset,xpan'])\n",
    "p.quad(left='left', bottom='bottom',right='right', top='top', \n",
    "       color='color', line_color='black', alpha=0.8, source=source)\n",
    "show(p, notebook_handle=True)"
   ]
  }
 ],
 "metadata": {
  "kernelspec": {
   "display_name": "Python 3",
   "language": "python",
   "name": "python3"
  },
  "language_info": {
   "codemirror_mode": {
    "name": "ipython",
    "version": 3
   },
   "file_extension": ".py",
   "mimetype": "text/x-python",
   "name": "python",
   "nbconvert_exporter": "python",
   "pygments_lexer": "ipython3",
   "version": "3.5.4"
  }
 },
 "nbformat": 4,
 "nbformat_minor": 2
}
