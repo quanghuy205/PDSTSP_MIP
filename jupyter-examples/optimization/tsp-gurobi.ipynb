{
 "cells": [
  {
   "cell_type": "markdown",
   "metadata": {},
   "source": [
    "# TSP: Traveling Salesman Problem\n",
    "## El problema del vendedor viajero (usando GUROBI)\n",
    "- Sea $C$ el conjunto de ciudades que se deben visitar, con $C=\\{0,...,n-1\\}$.\n",
    "- Sea $E$ el conjunto de arcos o links que unen a las ciudades, con $E=\\{(i,j)\\in C^2 : i\\neq j\\}$.\n",
    "- Sea $x_{(i,j)}$ una variable binaria que es igual a 1 cuando se viaja de forma directa desde la ciudad $i$ a la ciudad $j$, con $(i,j)\\in E$, y es igual cero en caso contrario.\n",
    "- Sea $d_e$ la distancia del arco $e\\in E$.\n",
    "\n",
    "Luego, el problema a optimizar es el siguiente:\n",
    "$$\\begin{align}\n",
    "\\min \\quad & \\sum_{e\\in E} d_e x_e \\\\\n",
    "\\text{s.t.} \\quad & \\sum_{e=(i,j)\\in E} x_e = 1  &&\\forall i \\in C \\\\\n",
    " & \\sum_{e=(i,j)\\in E} x_e = 1 && \\forall j \\in C  \\\\\n",
    " & u_i + 1 \\leq u_j + M(1-x_{ij})&& \\forall (i,j)\\in E : j\\neq 0 \\\\\n",
    " & x_e \\in \\{0,1\\} && \\forall (i,j)\\in E\\\\\n",
    " & u_i \\geq 0 && \\forall i \\in C\n",
    "\\end{align}$$"
   ]
  },
  {
   "cell_type": "code",
   "execution_count": 1,
   "metadata": {},
   "outputs": [],
   "source": [
    "import numpy as np\n",
    "import gurobipy as gu\n",
    "from gurobipy import Model, GRB, quicksum\n",
    "import matplotlib.pyplot as plt\n",
    "%matplotlib inline"
   ]
  },
  {
   "cell_type": "code",
   "execution_count": 2,
   "metadata": {},
   "outputs": [],
   "source": [
    "n = 10\n",
    "ciudades = [i for i in range(n)]"
   ]
  },
  {
   "cell_type": "code",
   "execution_count": 3,
   "metadata": {},
   "outputs": [],
   "source": [
    "arcos = [(i, j) for i in ciudades for j in ciudades if i != j]"
   ]
  },
  {
   "cell_type": "code",
   "execution_count": 4,
   "metadata": {},
   "outputs": [],
   "source": [
    "rnd = np.random\n",
    "rnd.seed(1)\n",
    "coord_x = rnd.rand(n) * 100\n",
    "coord_y = rnd.rand(n) * 100\n",
    "distancia = {(i, j): np.hypot(coord_x[i] - coord_x[j], coord_y[i] - coord_y[j])\n",
    "            for i, j in arcos}"
   ]
  },
  {
   "cell_type": "code",
   "execution_count": 5,
   "metadata": {},
   "outputs": [],
   "source": [
    "mdl = Model('TSP')"
   ]
  },
  {
   "cell_type": "code",
   "execution_count": 6,
   "metadata": {},
   "outputs": [],
   "source": [
    "x = mdl.addVars(arcos, vtype=GRB.BINARY, name='x')\n",
    "u = mdl.addVars(ciudades, vtype=GRB.CONTINUOUS, name='u')"
   ]
  },
  {
   "cell_type": "markdown",
   "metadata": {},
   "source": [
    "$$\\min \\sum_{e\\in E} d_e x_e$$"
   ]
  },
  {
   "cell_type": "code",
   "execution_count": 7,
   "metadata": {},
   "outputs": [],
   "source": [
    "mdl.setObjective(quicksum(distancia[e] * x[e] for e in arcos), GRB.MINIMIZE)"
   ]
  },
  {
   "cell_type": "markdown",
   "metadata": {},
   "source": [
    "$$\\sum_{e=(i,j)\\in E} x_e = 1 \\quad \\forall i \\in C$$"
   ]
  },
  {
   "cell_type": "code",
   "execution_count": 8,
   "metadata": {},
   "outputs": [],
   "source": [
    "for c in ciudades:\n",
    "    mdl.addConstr(quicksum(x[(i,j)] for i,j in arcos if i==c)==1, name='out_%d'%c)"
   ]
  },
  {
   "cell_type": "markdown",
   "metadata": {},
   "source": [
    "$$\\sum_{e=(i,j)\\in E} x_e = 1 \\quad \\forall j \\in C $$"
   ]
  },
  {
   "cell_type": "code",
   "execution_count": 9,
   "metadata": {},
   "outputs": [],
   "source": [
    "for c in ciudades:\n",
    "    mdl.addConstr(quicksum(x[(i,j)] for i,j in arcos if j==c)==1, name='in_%d'%c)"
   ]
  },
  {
   "cell_type": "markdown",
   "metadata": {},
   "source": [
    "$$u_i + 1 \\leq u_j + M(1-x_{ij}) \\quad \\forall (i,j)\\in E : j\\neq 0$$"
   ]
  },
  {
   "cell_type": "code",
   "execution_count": 10,
   "metadata": {},
   "outputs": [],
   "source": [
    "for i, j in arcos:\n",
    "    if j!=0:\n",
    "        mdl.addConstr((x[(i, j)] == 1) >> (u[i] + 1 == u[j]), name='order_(%d,_%d)'%(i, j))"
   ]
  },
  {
   "cell_type": "code",
   "execution_count": 11,
   "metadata": {},
   "outputs": [
    {
     "data": {
      "text/plain": [
       "[0, 7, 6, 5, 3, 1, 9, 8, 4, 2]"
      ]
     },
     "execution_count": 11,
     "metadata": {},
     "output_type": "execute_result"
    }
   ],
   "source": [
    "tour = [0]\n",
    "while len(tour) < n:\n",
    "    k = tour[-1]\n",
    "    new_dist = {(i, j): d for (i,j), d in distancia.items()\n",
    "                if i==k and j not in tour}\n",
    "    (i, j) = min(new_dist, key=new_dist.get)\n",
    "    tour.append(j)\n",
    "tour"
   ]
  },
  {
   "cell_type": "code",
   "execution_count": 12,
   "metadata": {},
   "outputs": [],
   "source": [
    "for g in range(n):\n",
    "    i = tour[g - 1]\n",
    "    j = tour[g]\n",
    "    x[(i,j)].start = 1"
   ]
  },
  {
   "cell_type": "code",
   "execution_count": 13,
   "metadata": {},
   "outputs": [
    {
     "name": "stdout",
     "output_type": "stream",
     "text": [
      "Changed value of parameter timeLimit to 60.0\n",
      "   Prev: 1e+100  Min: 0.0  Max: 1e+100  Default: 1e+100\n",
      "Changed value of parameter MIPGap to 0.2\n",
      "   Prev: 0.0001  Min: 0.0  Max: 1e+100  Default: 0.0001\n",
      "Optimize a model with 20 rows, 100 columns and 180 nonzeros\n",
      "Model has 81 general constraints\n",
      "Variable types: 10 continuous, 90 integer (90 binary)\n",
      "Coefficient statistics:\n",
      "  Matrix range     [1e+00, 1e+00]\n",
      "  Objective range  [2e+01, 9e+01]\n",
      "  Bounds range     [1e+00, 1e+00]\n",
      "  RHS range        [1e+00, 1e+00]\n",
      "\n",
      "Loaded MIP start with objective 304.182 (0.02s)\n",
      "MIP start did not produce a new incumbent solution\n",
      "\n",
      "Presolve added 81 rows and 81 columns\n",
      "Presolve time: 0.00s\n",
      "Presolved: 101 rows, 181 columns, 423 nonzeros\n",
      "Presolved model has 81 SOS constraint(s)\n",
      "Variable types: 91 continuous, 90 integer (90 binary)\n",
      "\n",
      "Root relaxation: objective 2.540685e+02, 15 iterations, 0.00 seconds\n",
      "\n",
      "    Nodes    |    Current Node    |     Objective Bounds      |     Work\n",
      " Expl Unexpl |  Obj  Depth IntInf | Incumbent    BestBd   Gap | It/Node Time\n",
      "\n",
      "     0     0  254.06854    0    9  304.18208  254.06854  16.5%     -    0s\n",
      "\n",
      "Explored 1 nodes (15 simplex iterations) in 0.05 seconds\n",
      "Thread count was 4 (of 4 available processors)\n",
      "\n",
      "Solution count 1: 304.182 \n",
      "\n",
      "Optimal solution found (tolerance 2.00e-01)\n",
      "Best objective 3.041820789791e+02, best bound 2.540685436003e+02, gap 16.4748%\n"
     ]
    }
   ],
   "source": [
    "mdl.Params.timeLimit = 60\n",
    "mdl.Params.MIPGap = 0.2\n",
    "mdl.optimize()"
   ]
  },
  {
   "cell_type": "code",
   "execution_count": 14,
   "metadata": {
    "scrolled": true
   },
   "outputs": [
    {
     "data": {
      "text/plain": [
       "({(0, 1): <gurobi.Var x[0,1] (value 0.0)>,\n",
       "  (0, 2): <gurobi.Var x[0,2] (value 0.0)>,\n",
       "  (0, 3): <gurobi.Var x[0,3] (value 0.0)>,\n",
       "  (0, 4): <gurobi.Var x[0,4] (value 0.0)>,\n",
       "  (0, 5): <gurobi.Var x[0,5] (value 0.0)>,\n",
       "  (0, 6): <gurobi.Var x[0,6] (value 0.0)>,\n",
       "  (0, 7): <gurobi.Var x[0,7] (value 1.0)>,\n",
       "  (0, 8): <gurobi.Var x[0,8] (value 0.0)>,\n",
       "  (0, 9): <gurobi.Var x[0,9] (value 0.0)>,\n",
       "  (1, 0): <gurobi.Var x[1,0] (value 0.0)>,\n",
       "  (1, 2): <gurobi.Var x[1,2] (value 0.0)>,\n",
       "  (1, 3): <gurobi.Var x[1,3] (value 0.0)>,\n",
       "  (1, 4): <gurobi.Var x[1,4] (value 0.0)>,\n",
       "  (1, 5): <gurobi.Var x[1,5] (value 0.0)>,\n",
       "  (1, 6): <gurobi.Var x[1,6] (value 0.0)>,\n",
       "  (1, 7): <gurobi.Var x[1,7] (value 0.0)>,\n",
       "  (1, 8): <gurobi.Var x[1,8] (value 0.0)>,\n",
       "  (1, 9): <gurobi.Var x[1,9] (value 1.0)>,\n",
       "  (2, 0): <gurobi.Var x[2,0] (value 1.0)>,\n",
       "  (2, 1): <gurobi.Var x[2,1] (value 0.0)>,\n",
       "  (2, 3): <gurobi.Var x[2,3] (value 0.0)>,\n",
       "  (2, 4): <gurobi.Var x[2,4] (value 0.0)>,\n",
       "  (2, 5): <gurobi.Var x[2,5] (value 0.0)>,\n",
       "  (2, 6): <gurobi.Var x[2,6] (value 0.0)>,\n",
       "  (2, 7): <gurobi.Var x[2,7] (value 0.0)>,\n",
       "  (2, 8): <gurobi.Var x[2,8] (value 0.0)>,\n",
       "  (2, 9): <gurobi.Var x[2,9] (value 0.0)>,\n",
       "  (3, 0): <gurobi.Var x[3,0] (value 0.0)>,\n",
       "  (3, 1): <gurobi.Var x[3,1] (value 1.0)>,\n",
       "  (3, 2): <gurobi.Var x[3,2] (value 0.0)>,\n",
       "  (3, 4): <gurobi.Var x[3,4] (value 0.0)>,\n",
       "  (3, 5): <gurobi.Var x[3,5] (value 0.0)>,\n",
       "  (3, 6): <gurobi.Var x[3,6] (value 0.0)>,\n",
       "  (3, 7): <gurobi.Var x[3,7] (value 0.0)>,\n",
       "  (3, 8): <gurobi.Var x[3,8] (value 0.0)>,\n",
       "  (3, 9): <gurobi.Var x[3,9] (value 0.0)>,\n",
       "  (4, 0): <gurobi.Var x[4,0] (value 0.0)>,\n",
       "  (4, 1): <gurobi.Var x[4,1] (value 0.0)>,\n",
       "  (4, 2): <gurobi.Var x[4,2] (value 1.0)>,\n",
       "  (4, 3): <gurobi.Var x[4,3] (value 0.0)>,\n",
       "  (4, 5): <gurobi.Var x[4,5] (value 0.0)>,\n",
       "  (4, 6): <gurobi.Var x[4,6] (value 0.0)>,\n",
       "  (4, 7): <gurobi.Var x[4,7] (value 0.0)>,\n",
       "  (4, 8): <gurobi.Var x[4,8] (value 0.0)>,\n",
       "  (4, 9): <gurobi.Var x[4,9] (value 0.0)>,\n",
       "  (5, 0): <gurobi.Var x[5,0] (value 0.0)>,\n",
       "  (5, 1): <gurobi.Var x[5,1] (value 0.0)>,\n",
       "  (5, 2): <gurobi.Var x[5,2] (value 0.0)>,\n",
       "  (5, 3): <gurobi.Var x[5,3] (value 1.0)>,\n",
       "  (5, 4): <gurobi.Var x[5,4] (value 0.0)>,\n",
       "  (5, 6): <gurobi.Var x[5,6] (value 0.0)>,\n",
       "  (5, 7): <gurobi.Var x[5,7] (value 0.0)>,\n",
       "  (5, 8): <gurobi.Var x[5,8] (value 0.0)>,\n",
       "  (5, 9): <gurobi.Var x[5,9] (value 0.0)>,\n",
       "  (6, 0): <gurobi.Var x[6,0] (value 0.0)>,\n",
       "  (6, 1): <gurobi.Var x[6,1] (value 0.0)>,\n",
       "  (6, 2): <gurobi.Var x[6,2] (value 0.0)>,\n",
       "  (6, 3): <gurobi.Var x[6,3] (value 0.0)>,\n",
       "  (6, 4): <gurobi.Var x[6,4] (value 0.0)>,\n",
       "  (6, 5): <gurobi.Var x[6,5] (value 1.0)>,\n",
       "  (6, 7): <gurobi.Var x[6,7] (value 0.0)>,\n",
       "  (6, 8): <gurobi.Var x[6,8] (value 0.0)>,\n",
       "  (6, 9): <gurobi.Var x[6,9] (value 0.0)>,\n",
       "  (7, 0): <gurobi.Var x[7,0] (value 0.0)>,\n",
       "  (7, 1): <gurobi.Var x[7,1] (value 0.0)>,\n",
       "  (7, 2): <gurobi.Var x[7,2] (value 0.0)>,\n",
       "  (7, 3): <gurobi.Var x[7,3] (value 0.0)>,\n",
       "  (7, 4): <gurobi.Var x[7,4] (value 0.0)>,\n",
       "  (7, 5): <gurobi.Var x[7,5] (value 0.0)>,\n",
       "  (7, 6): <gurobi.Var x[7,6] (value 1.0)>,\n",
       "  (7, 8): <gurobi.Var x[7,8] (value 0.0)>,\n",
       "  (7, 9): <gurobi.Var x[7,9] (value 0.0)>,\n",
       "  (8, 0): <gurobi.Var x[8,0] (value 0.0)>,\n",
       "  (8, 1): <gurobi.Var x[8,1] (value 0.0)>,\n",
       "  (8, 2): <gurobi.Var x[8,2] (value 0.0)>,\n",
       "  (8, 3): <gurobi.Var x[8,3] (value 0.0)>,\n",
       "  (8, 4): <gurobi.Var x[8,4] (value 1.0)>,\n",
       "  (8, 5): <gurobi.Var x[8,5] (value 0.0)>,\n",
       "  (8, 6): <gurobi.Var x[8,6] (value 0.0)>,\n",
       "  (8, 7): <gurobi.Var x[8,7] (value 0.0)>,\n",
       "  (8, 9): <gurobi.Var x[8,9] (value 0.0)>,\n",
       "  (9, 0): <gurobi.Var x[9,0] (value 0.0)>,\n",
       "  (9, 1): <gurobi.Var x[9,1] (value 0.0)>,\n",
       "  (9, 2): <gurobi.Var x[9,2] (value 0.0)>,\n",
       "  (9, 3): <gurobi.Var x[9,3] (value 0.0)>,\n",
       "  (9, 4): <gurobi.Var x[9,4] (value 0.0)>,\n",
       "  (9, 5): <gurobi.Var x[9,5] (value 0.0)>,\n",
       "  (9, 6): <gurobi.Var x[9,6] (value 0.0)>,\n",
       "  (9, 7): <gurobi.Var x[9,7] (value 0.0)>,\n",
       "  (9, 8): <gurobi.Var x[9,8] (value 1.0)>},\n",
       " {0: <gurobi.Var u[0] (value 0.0)>,\n",
       "  1: <gurobi.Var u[1] (value 5.0)>,\n",
       "  2: <gurobi.Var u[2] (value 9.0)>,\n",
       "  3: <gurobi.Var u[3] (value 4.0)>,\n",
       "  4: <gurobi.Var u[4] (value 8.0)>,\n",
       "  5: <gurobi.Var u[5] (value 3.0)>,\n",
       "  6: <gurobi.Var u[6] (value 2.0)>,\n",
       "  7: <gurobi.Var u[7] (value 1.0)>,\n",
       "  8: <gurobi.Var u[8] (value 7.0)>,\n",
       "  9: <gurobi.Var u[9] (value 6.0)>})"
      ]
     },
     "execution_count": 14,
     "metadata": {},
     "output_type": "execute_result"
    }
   ],
   "source": [
    "x, u"
   ]
  },
  {
   "cell_type": "code",
   "execution_count": 15,
   "metadata": {},
   "outputs": [
    {
     "data": {
      "image/png": "[encoded data removed]",
      "text/plain": [
       "<matplotlib.figure.Figure at 0x1aca739af28>"
      ]
     },
     "metadata": {},
     "output_type": "display_data"
    }
   ],
   "source": [
    "arcos_activos = [e for e in arcos if x[e].x > 0.9]\n",
    "for i,j in arcos_activos:\n",
    "    plt.plot([coord_x[i],coord_x[j]],[coord_y[i],coord_y[j]],\n",
    "              color='b', alpha=0.4, zorder=0)\n",
    "plt.scatter(x=coord_x, y=coord_y, color='r', zorder=1)\n",
    "for i in ciudades:\n",
    "    plt.annotate(i,(coord_x[i]+1,coord_y[i]+1))\n",
    "plt.xlim((0,100))\n",
    "plt.ylim((0,100))\n",
    "plt.show()"
   ]
  }
 ],
 "metadata": {
  "kernelspec": {
   "display_name": "Python 3",
   "language": "python",
   "name": "python3"
  },
  "language_info": {
   "codemirror_mode": {
    "name": "ipython",
    "version": 3
   },
   "file_extension": ".py",
   "mimetype": "text/x-python",
   "name": "python",
   "nbconvert_exporter": "python",
   "pygments_lexer": "ipython3",
   "version": "3.6.2"
  }
 },
 "nbformat": 4,
 "nbformat_minor": 2
}
