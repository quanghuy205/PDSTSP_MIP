{
 "cells": [
  {
   "cell_type": "markdown",
   "metadata": {},
   "source": [
    "# CVRP\n",
    "Suponga que correos de chile debe decidir cuantos vehículos debe utilizar para distribuir paquetes en Antofagasta en un día cualquiera. Considere los siguientes aspectos:\n",
    "- Se tiene disponible, al inicio de cada día, una lista de paquetes que necesariamente deben ser entregados.\n",
    "- Cada paquete tiene un peso y volumen conocido.\n",
    "- Se cuenta con una serie de vehículos con capacidad en peso y volumen conocidos"
   ]
  },
  {
   "cell_type": "markdown",
   "metadata": {},
   "source": [
    "Considere los siguientes parametros:\n",
    "* $C$ conjunto de clientes o paquetes\n",
    "* $N=\\{0\\}\\cup N$ conjunto de nodos, donde $0$ representa al depot\n",
    "* $A=\\{(i,j)\\in N^2 : i\\neq j\\}$ conjunto de todos las conexiones (arcos) entre nodos\n",
    "* $d_{i,j}$ distancia entre los nodos $i$ y $j$, con $(i,j)\\in A$\n",
    "* $p_i$ peso de cada paquete $i\\in N$\n",
    "* $v_i$ volumen de cada paquete $i\\in N$\n",
    "* $V$ capacidad de volumen de cada vehículo\n",
    "* $P$ capacidad de peso de cada vehículo"
   ]
  },
  {
   "cell_type": "markdown",
   "metadata": {},
   "source": [
    "Considere las siguientes variables de decisión:\n",
    "* $x_{i,j}$ igual a uno cuando se decide viajar sobre el arco $(i,j)\\in A$; igual a cero de lo contrario \n",
    "* $u_i$ volumen acumulado en una ruta hasta el cliente $i\\in C$\n",
    "* $w_j$ peso acumulado en una ruta hasta el cliente $i\\in C$"
   ]
  },
  {
   "cell_type": "markdown",
   "metadata": {},
   "source": [
    "Luego, la formulación matemática del problema es:\n",
    "\\begin{align}\n",
    "\\min \\quad & \\sum_{(i,j)\\in A}d_{i,j}x_{i,j} \\\\\n",
    "\\text{s.t.} \\quad & \\sum_{(i,j)\\in A : j=h} x_{i,j} = 1 && \\forall \\ h \\in C \\\\\n",
    "& \\sum_{(i,j)\\in A : i=h} x_{i,j} = 1 && \\forall \\ h \\in C \\\\\n",
    "& x_{i,j} = 1 \\Rightarrow u_i + v_j = u_j && \\forall \\ (i,j) \\in A : i\\neq 0 , \\ j\\neq 0 \\\\\n",
    "& x_{i,j} = 1 \\Rightarrow w_i + p_j = w_j && \\forall \\ (i,j) \\in A : i\\neq 0 , \\ j\\neq 0 \\\\\n",
    "& v_i \\leq u_i \\leq V && \\forall \\ i \\in C \\\\\n",
    "& p_i \\leq w_i \\leq P && \\forall \\ i \\in C \\\\\n",
    "& x_{i,j} \\in \\{0,1\\} && \\forall \\ (i,j) \\in A\n",
    "\\end{align}"
   ]
  },
  {
   "cell_type": "code",
   "execution_count": 1,
   "metadata": {},
   "outputs": [],
   "source": [
    "import numpy as np\n",
    "import xlwings as xw\n",
    "import folium\n",
    "import docplex.mp.solution as mp_sol\n",
    "from docplex.mp.model import Model\n",
    "from geopy.distance import great_circle"
   ]
  },
  {
   "cell_type": "code",
   "execution_count": 2,
   "metadata": {
    "scrolled": true
   },
   "outputs": [],
   "source": [
    "n = 15\n",
    "paquetes = [i for i in range(1, n + 1)]\n",
    "nodos = [0] + paquetes"
   ]
  },
  {
   "cell_type": "code",
   "execution_count": 3,
   "metadata": {},
   "outputs": [],
   "source": [
    "arcos = [(i,j) for i in nodos for j in nodos if i != j]"
   ]
  },
  {
   "cell_type": "code",
   "execution_count": 4,
   "metadata": {
    "scrolled": true
   },
   "outputs": [],
   "source": [
    "lats = xw.Range('E2:E%d'%(n+2)).value\n",
    "lons = xw.Range('F2:F%d'%(n+2)).value\n",
    "distancia = {(i,j): great_circle((lats[i], lons[i]), (lats[j], lons[j])).meters for i, j in arcos}\n",
    "volumen = xw.Range('G2:G%d'%(n+2)).value\n",
    "peso = xw.Range('H2:H%d'%(n+2)).value\n",
    "volumen_max = xw.Range('K1').value\n",
    "peso_max = xw.Range('K2').value"
   ]
  },
  {
   "cell_type": "code",
   "execution_count": 5,
   "metadata": {},
   "outputs": [],
   "source": [
    "mdl = Model('CVRP Correos de Chile')"
   ]
  },
  {
   "cell_type": "code",
   "execution_count": 6,
   "metadata": {},
   "outputs": [],
   "source": [
    "x = mdl.binary_var_dict(arcos, name='x')\n",
    "u = mdl.continuous_var_dict(paquetes, name='u')\n",
    "w = mdl.continuous_var_dict(paquetes, name='w')"
   ]
  },
  {
   "cell_type": "markdown",
   "metadata": {},
   "source": [
    "$$\\min \\sum_{(i,j)\\in A}d_{i,j}x_{i,j}$$"
   ]
  },
  {
   "cell_type": "code",
   "execution_count": 7,
   "metadata": {},
   "outputs": [],
   "source": [
    "mdl.minimize(mdl.sum(distancia[(i, j)] * x[(i, j)] for i, j in arcos))"
   ]
  },
  {
   "cell_type": "markdown",
   "metadata": {},
   "source": [
    "$$ \\sum_{(i,j)\\in A : j=h} x_{i,j} = 1 \\qquad \\forall \\ h \\in C $$"
   ]
  },
  {
   "cell_type": "code",
   "execution_count": 8,
   "metadata": {},
   "outputs": [],
   "source": [
    "for h in paquetes:\n",
    "    mdl.add_constraint(mdl.sum(x[(i,j)] for i,j in arcos if i==h)==1, ctname='out_%d'%h)"
   ]
  },
  {
   "cell_type": "markdown",
   "metadata": {},
   "source": [
    "$$ \\sum_{(i,j)\\in A : i=h} x_{i,j} = 1 \\qquad \\forall \\ h \\in C $$"
   ]
  },
  {
   "cell_type": "code",
   "execution_count": 9,
   "metadata": {},
   "outputs": [],
   "source": [
    "for h in paquetes:\n",
    "    mdl.add_constraint(mdl.sum(x[(i,j)] for i,j in arcos if j==h)==1, ctname='in_%d'%h)"
   ]
  },
  {
   "cell_type": "markdown",
   "metadata": {},
   "source": [
    "$$ x_{i,j} = 1 \\Rightarrow u_i + v_j = u_j \\qquad \\forall \\ (i,j) \\in A : i\\neq 0 , \\ j\\neq 0 $$\n",
    "$$ x_{i,j} = 1 \\Rightarrow w_i + p_j = w_j \\qquad \\forall \\ (i,j) \\in A : i\\neq 0 , \\ j\\neq 0 $$"
   ]
  },
  {
   "cell_type": "code",
   "execution_count": 10,
   "metadata": {},
   "outputs": [],
   "source": [
    "for i, j in arcos:\n",
    "    if i!=0 and j!=0:\n",
    "        mdl.add_indicator(x[(i,j)], u[i] + volumen[j] == u[j])\n",
    "        mdl.add_indicator(x[(i,j)], w[i] + peso[j] == w[j])"
   ]
  },
  {
   "cell_type": "markdown",
   "metadata": {},
   "source": [
    "$$ v_i \\leq u_i \\leq V \\qquad \\forall \\ i \\in C $$\n",
    "$$ p_i \\leq w_i \\leq P \\qquad \\forall \\ i \\in C $$"
   ]
  },
  {
   "cell_type": "code",
   "execution_count": 11,
   "metadata": {},
   "outputs": [],
   "source": [
    "for i in paquetes:\n",
    "    mdl.add_constraint(volumen[i] <= u[i])\n",
    "    mdl.add_constraint(u[i] <= volumen_max)\n",
    "    mdl.add_constraint(peso[i] <= w[i])\n",
    "    mdl.add_constraint(w[i] <= peso_max)"
   ]
  },
  {
   "cell_type": "code",
   "execution_count": 12,
   "metadata": {},
   "outputs": [
    {
     "name": "stdout",
     "output_type": "stream",
     "text": [
      "CPXPARAM_TimeLimit                               60\n",
      "CPXPARAM_Read_DataCheck                          1\n",
      "CPXPARAM_Read_APIEncoding                        \"UTF-8\"\n",
      "CPXPARAM_MIP_Strategy_Branch                     1\n",
      "CPXPARAM_MIP_Tolerances_MIPGap                   0.10000000000000001\n",
      "CPXPARAM_MIP_Strategy_CallbackReducedLP          0\n",
      "Found incumbent of value 166726.698961 after 0.00 sec. (0.02 ticks)\n",
      "Tried aggregator 2 times.\n",
      "MIP Presolve eliminated 60 rows and 0 columns.\n",
      "MIP Presolve modified 210 coefficients.\n",
      "Aggregator did 210 substitutions.\n",
      "Reduced MIP has 240 rows, 480 columns, and 1080 nonzeros.\n",
      "Reduced MIP has 240 binaries, 0 generals, 0 SOSs, and 420 indicators.\n",
      "Presolve time = 0.02 sec. (1.50 ticks)\n",
      "Probing time = 0.00 sec. (1.83 ticks)\n",
      "Tried aggregator 1 time.\n",
      "Reduced MIP has 240 rows, 480 columns, and 1080 nonzeros.\n",
      "Reduced MIP has 240 binaries, 0 generals, 0 SOSs, and 420 indicators.\n",
      "Presolve time = 0.00 sec. (0.82 ticks)\n",
      "Probing time = 0.00 sec. (1.77 ticks)\n",
      "Clique table members: 135.\n",
      "MIP emphasis: balance optimality and feasibility.\n",
      "MIP search method: dynamic search.\n",
      "Parallel mode: deterministic, using up to 8 threads.\n",
      "Root relaxation solution time = 0.00 sec. (0.33 ticks)\n",
      "\n",
      "        Nodes                                         Cuts/\n",
      "   Node  Left     Objective  IInf  Best Integer    Best Bound    ItCnt     Gap\n",
      "\n",
      "*     0+    0                       166726.6990        0.0000           100.00%\n",
      "*     0+    0                       153970.2164        0.0000           100.00%\n",
      "      0     0    11572.3353    15   153970.2164    11572.3353       16   92.48%\n",
      "      0     0    11871.6506    24   153970.2164      Cuts: 59       33   92.29%\n",
      "      0     0    12562.1875    23   153970.2164      Cuts: 32       68   91.84%\n",
      "      0     0    13066.0622    29   153970.2164      Cuts: 29       82   91.51%\n",
      "*     0+    0                       132632.6940    13066.0622            90.15%\n",
      "      0     0    13066.0622    28   132632.6940      Cuts: 14       91   90.15%\n",
      "      0     0    13066.0622    29   132632.6940   Impl Bds: 7       95   90.15%\n",
      "*     0+    0                        52428.3030    13066.0622            75.08%\n",
      "      0     2    13066.0622    19    52428.3030    13363.5436       95   74.51%\n",
      "Elapsed time = 0.13 sec. (23.81 ticks, tree = 0.01 MB, solutions = 4)\n",
      "*    33    17      integral     0    52287.8207    13363.5436      172   74.44%\n",
      "*   110    45      integral     0    52180.0559    13363.5436      481   74.39%\n",
      "*   193    63      integral     0    52077.6657    13363.5436      779   74.34%\n",
      "*   964   313      integral     0    51704.0799    13794.0096     4697   73.32%\n",
      "*  2857  1266      integral     0    51455.7340    14879.7584    24784   71.08%\n",
      "*  3583+ 1578                        51446.5330    14957.3359            70.93%\n",
      "   3610  1834    21992.1136    12    51446.5330    21297.7551    42250   58.60%\n",
      "*  4052   174      integral     0    51163.2871    21410.5791    45799   58.15%\n",
      "*  4806+  440                        51046.8023    21642.7383            57.60%\n",
      "   7195  1540    22192.6679    28    51046.8023    22140.6041    85012   56.63%\n",
      "  11123  2975    47362.8343     5    51046.8023    22613.0962   133911   55.70%\n",
      "  15780  4235    48920.6682     9    51046.8023    22866.5833   184055   55.20%\n",
      "  20267  5756    23218.4203    32    51046.8023    23077.1919   250738   54.79%\n",
      "  24268  6822    41230.9309    15    51046.8023    23269.9461   300603   54.41%\n",
      "* 37617+10128                        51039.7719    23717.6963            53.53%\n",
      "* 39489+10128                        51038.6761    23726.1278            53.51%\n",
      "* 39601+10051                        50901.8447    23726.1278            53.39%\n",
      "  40857 10975    44395.5025    14    50901.8447    23726.1278   515131   53.39%\n",
      "Elapsed time = 4.45 sec. (2414.60 ticks, tree = 4.56 MB, solutions = 13)\n",
      "* 45822+10051                        50899.9243    23726.1278            53.39%\n",
      "* 45974+10128                        50894.8142    23726.1278            53.38%\n",
      "* 46913+10128                        50893.7184    23726.1278            53.38%\n",
      "  55012 13926    49688.7938    22    50893.7184    24198.3559   694323   52.45%\n",
      "  71273 17673    25168.6761    16    50893.7184    24630.2899   944223   51.60%\n",
      "  86934 20578    28523.2454    28    50893.7184    25044.2450  1143027   50.79%\n",
      " 101980 24002    48854.5942    17    50893.7184    25402.0578  1390143   50.09%\n",
      " 116462 26278    39869.5145    17    50893.7184    25718.4341  1572517   49.47%\n",
      " 130146 29012    43642.9173    20    50893.7184    25947.1032  1801471   49.02%\n",
      " 143816 31157    infeasible          50893.7184    26172.1651  1999341   48.57%\n",
      " 156782 33293    33843.8687    17    50893.7184    26388.6512  2205281   48.15%\n",
      " 170097 35410    47370.4078    23    50893.7184    26585.8113  2419710   47.76%\n",
      " 183067 36974    40437.3548    16    50893.7184    26756.0913  2598109   47.43%\n",
      "Elapsed time = 27.03 sec. (11952.12 ticks, tree = 16.20 MB, solutions = 21)\n",
      " 195011 38986    36186.2921    17    50893.7184    26952.8920  2835666   47.04%\n",
      " 206782 40394    40150.9706    18    50893.7184    27112.8853  3001516   46.73%\n",
      " 218653 42103        cutoff          50893.7184    27274.7935  3211486   46.41%\n",
      " 231056 43725    27585.0182    16    50893.7184    27423.7534  3405072   46.12%\n",
      " 243029 45453    34399.5635    21    50893.7184    27576.4247  3616903   45.82%\n",
      " 254486 47070    44714.9092    23    50893.7184    27717.6431  3818304   45.54%\n",
      " 265985 48881    45203.2583    20    50893.7184    27852.6208  4039232   45.27%\n",
      " 278627 50200    infeasible          50893.7184    27987.6933  4205064   45.01%\n",
      " 289680 51921    49152.3827    19    50893.7184    28122.8993  4416950   44.74%\n",
      " 300532 53365    43247.8918    18    50893.7184    28230.9202  4599863   44.53%\n",
      "Elapsed time = 51.39 sec. (21489.37 ticks, tree = 22.62 MB, solutions = 21)\n",
      " 312683 54931        cutoff          50893.7184    28343.1083  4797675   44.31%\n",
      " 322391 56363    28580.6867    21    50893.7184    28478.6701  4987309   44.04%\n",
      " 329285 57097    41213.3695    15    50893.7184    28566.3678  5083750   43.87%\n",
      "\n",
      "Clique cuts applied:  8\n",
      "Implied bound cuts applied:  596\n",
      "Mixed integer rounding cuts applied:  9\n",
      "Zero-half cuts applied:  2\n",
      "Gomory fractional cuts applied:  24\n",
      "\n",
      "Root node processing (before b&c):\n",
      "  Real time             =    0.14 sec. (23.68 ticks)\n",
      "Parallel b&c, 8 threads:\n",
      "  Real time             =   59.89 sec. (25134.74 ticks)\n",
      "  Sync time (average)   =    5.30 sec.\n",
      "  Wait time (average)   =    0.19 sec.\n",
      "                          ------------\n",
      "Total (root+branch&cut) =   60.03 sec. (25158.43 ticks)\n"
     ]
    }
   ],
   "source": [
    "mdl.parameters.timelimit = 60\n",
    "mdl.parameters.mip.tolerances.mipgap = 0.1\n",
    "mdl.parameters.mip.strategy.branch = 1\n",
    "solucion = mdl.solve(log_output=True)"
   ]
  },
  {
   "cell_type": "code",
   "execution_count": 13,
   "metadata": {},
   "outputs": [
    {
     "data": {
      "text/plain": [
       "<JobSolveStatus.FEASIBLE_SOLUTION: 1>"
      ]
     },
     "execution_count": 13,
     "metadata": {},
     "output_type": "execute_result"
    }
   ],
   "source": [
    "mdl.get_solve_status()"
   ]
  },
  {
   "cell_type": "code",
   "execution_count": 14,
   "metadata": {},
   "outputs": [
    {
     "data": {
      "text/plain": [
       "[[(0, 1), (1, 9), (9, 11), (11, 5), (5, 0)],\n",
       " [(0, 2), (2, 10), (10, 13), (13, 0)],\n",
       " [(0, 8), (8, 6), (6, 7), (7, 3), (3, 0)],\n",
       " [(0, 15), (15, 14), (14, 12), (12, 4), (4, 0)]]"
      ]
     },
     "execution_count": 14,
     "metadata": {},
     "output_type": "execute_result"
    }
   ],
   "source": [
    "# Encontrar las rutas por separado\n",
    "rutas = []\n",
    "for h in paquetes:\n",
    "    if x[(0, h)].solution_value > 0.9:\n",
    "        arcos_ruta = [(0, h)]\n",
    "        j = h\n",
    "        while j!=0:\n",
    "            i = j\n",
    "            for k in nodos:\n",
    "                if i!=k and x[(i, k)].solution_value > 0.9:\n",
    "                    j = k\n",
    "                    arcos_ruta.append((i, j))\n",
    "                    break\n",
    "        rutas.append(arcos_ruta)\n",
    "rutas"
   ]
  },
  {
   "cell_type": "code",
   "execution_count": 15,
   "metadata": {},
   "outputs": [
    {
     "data": {
      "text/html": [
       "<div style=\"width:100%;\"><div style=\"position:relative;width:100%;height:0;padding-bottom:60%;\"><iframe src=\"data:text/html;charset=utf-8;base64,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\" style=\"position:absolute;width:100%;height:100%;left:0;top:0;border:none !important;\" allowfullscreen webkitallowfullscreen mozallowfullscreen></iframe></div></div>"
      ],
      "text/plain": [
       "<folium.folium.Map at 0x219d2f3f7f0>"
      ]
     },
     "execution_count": 15,
     "metadata": {},
     "output_type": "execute_result"
    }
   ],
   "source": [
    "mapa = folium.Map(location=xw.Range('E2:F2').value, zoom_start=12)\n",
    "\n",
    "fg = folium.FeatureGroup(name='Direcciones')\n",
    "\n",
    "# Graficar el depot\n",
    "lat, lon = xw.Range('E2:F2').value\n",
    "fg.add_child(folium.Marker(location=[lat,lon],\n",
    "                           popup=folium.Popup('Depot'),\n",
    "                           icon=folium.Icon(color='red', \n",
    "                                            icon_color='white')\n",
    "                           ))\n",
    "\n",
    "# Graficar los clientes\n",
    "for nombre, dire, status, tipo, lat, lon in xw.Range('A3:F%d'%(n+2)).value:\n",
    "    fg.add_child(folium.Marker(location=[lat,lon],\n",
    "                               popup=folium.Popup(nombre),\n",
    "                               icon=folium.Icon(color='blue',\n",
    "                                                icon_color='white')\n",
    "                               ))\n",
    "\n",
    "mapa.add_child(fg)\n",
    "\n",
    "# Graficar las rutas por separado\n",
    "k = 0\n",
    "for ruta in rutas:\n",
    "    k = k + 1\n",
    "    fg = folium.FeatureGroup(name='Ruta %d'%(k))\n",
    "    for i, j in ruta:\n",
    "        poly = folium.PolyLine(locations=[[lats[i],lons[i]],[lats[j],lons[j]]], weight=5)\n",
    "        fg.add_child(poly)\n",
    "    mapa.add_child(fg)\n",
    "\n",
    "# Mostrar el mapa\n",
    "mapa.add_child(folium.LayerControl())\n",
    "mapa"
   ]
  }
 ],
 "metadata": {
  "kernelspec": {
   "display_name": "Python 3",
   "language": "python",
   "name": "python3"
  },
  "language_info": {
   "codemirror_mode": {
    "name": "ipython",
    "version": 3
   },
   "file_extension": ".py",
   "mimetype": "text/x-python",
   "name": "python",
   "nbconvert_exporter": "python",
   "pygments_lexer": "ipython3",
   "version": "3.5.4"
  }
 },
 "nbformat": 4,
 "nbformat_minor": 2
}
