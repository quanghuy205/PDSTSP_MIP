{
 "cells": [
  {
   "cell_type": "code",
   "execution_count": 1,
   "metadata": {},
   "outputs": [],
   "source": [
    "from gurobi import *\n",
    "import numpy as np\n",
    "import pandas as pd\n",
    "from scipy.spatial import distance\n",
    "from itertools import chain, combinations"
   ]
  },
  {
   "cell_type": "markdown",
   "metadata": {},
   "source": [
    "# PDSTSP\n"
   ]
  },
  {
   "cell_type": "code",
   "execution_count": 2,
   "metadata": {},
   "outputs": [],
   "source": [
    "class Data:\n",
    "    def __init__(self):\n",
    "        self.customerNum = 0 \n",
    "        self.nodeNum     = 0 \n",
    "        self.droneNum    = 2\n",
    "        self.cities      = []\n",
    "        self.cor_X       = [] \n",
    "        self.cor_Y       = [] \n",
    "        self.serviceTime = [] \n",
    "        self.disMatrix   = [[]]\n",
    "        self.dt          = None\n",
    "        self.i_pot = None\n",
    "        self.cus_can_served_by_drone = None\n",
    "        self.drone_distances = None\n",
    "        self.truck_distances = None\n",
    "        \n",
    "      \n",
    "        \n",
    "\n",
    "    def readData(self, path):\n",
    "        self.dt = pd.read_csv(path, header = None).to_numpy()[:-1]\n",
    "        self.customerNum = len(self.dt)\n",
    "        self.i_pot = self.dt[0, 1:3]\n",
    "        self.nodeNum = self.customerNum + 2 \n",
    "        \n",
    "        self.cities = [self.dt[i, 0] for i in range(len(self.dt))]\n",
    "        \n",
    "        self.cus_can_served_by_drone = [i for i in range(len(self.dt)) if self.dt[i, 3] == 0]\n",
    "        \n",
    "        self.drone_distances = [distance.euclidean((self.dt[i, 1:3]), self.i_pot)\n",
    "                                if self.dt[i, 3] == 0 else float('inf')\n",
    "                                for i in range(len(self.dt))]\n",
    "        self.truck_distances = [[distance.cityblock(self.dt[i, 1:3], self.dt[j, 1:3])\n",
    "                                 for i in range(len(self.dt))] for j in range(len(self.dt))]\n",
    "    \n",
    "    \n",
    "\n",
    "        \n",
    "       \n"
   ]
  },
  {
   "cell_type": "code",
   "execution_count": 3,
   "metadata": {},
   "outputs": [
    {
     "name": "stdout",
     "output_type": "stream",
     "text": [
      "[[ 0.   0.   0.   0.4]\n",
      " [ 1.   2.1  2.4  0. ]\n",
      " [ 2.   3.8  0.6  1. ]\n",
      " [ 3.   0.3  6.6  0. ]\n",
      " [ 4.   0.4  3.2  0. ]\n",
      " [ 5.   0.6  3.1  0. ]\n",
      " [ 6.   2.3 11.9  0. ]\n",
      " [ 7.   0.3  9.9  0. ]\n",
      " [ 8.   0.8  2.5  0. ]\n",
      " [ 9.   3.6 10.7  0. ]]\n",
      "10\n"
     ]
    }
   ],
   "source": [
    "data = Data()\n",
    "\n",
    "data.readData(\"20140813T111857.csv\")\n",
    "print(data.dt)\n",
    "\n",
    "print(data.customerNum)"
   ]
  },
  {
   "cell_type": "code",
   "execution_count": 4,
   "metadata": {},
   "outputs": [
    {
     "name": "stdout",
     "output_type": "stream",
     "text": [
      "[2.1 2.4]\n"
     ]
    }
   ],
   "source": [
    "print(data.dt[1, 1:3])"
   ]
  },
  {
   "cell_type": "code",
   "execution_count": 5,
   "metadata": {
    "scrolled": true
   },
   "outputs": [
    {
     "name": "stdout",
     "output_type": "stream",
     "text": [
      "[0.0, 1.0, 2.0, 3.0, 4.0, 5.0, 6.0, 7.0, 8.0, 9.0]\n"
     ]
    }
   ],
   "source": [
    "print(data.cities)"
   ]
  },
  {
   "cell_type": "code",
   "execution_count": 6,
   "metadata": {},
   "outputs": [
    {
     "name": "stdout",
     "output_type": "stream",
     "text": [
      "[[0.0, 4.5, 4.3999999999999995, 6.8999999999999995, 3.6, 3.7, 14.2, 10.200000000000001, 3.3, 14.299999999999999], [4.5, 0.0, 3.4999999999999996, 5.999999999999999, 2.5000000000000004, 2.2, 9.7, 9.3, 1.4000000000000001, 9.799999999999999], [4.3999999999999995, 3.4999999999999996, 0.0, 9.5, 6.0, 5.699999999999999, 12.8, 12.8, 4.9, 10.299999999999999], [6.8999999999999995, 5.999999999999999, 9.5, 0.0, 3.4999999999999996, 3.7999999999999994, 7.300000000000001, 3.3000000000000007, 4.6, 7.4], [3.6, 2.5000000000000004, 6.0, 3.4999999999999996, 0.0, 0.30000000000000004, 10.6, 6.8, 1.1, 10.7], [3.7, 2.2, 5.699999999999999, 3.7999999999999994, 0.30000000000000004, 0.0, 10.5, 7.1000000000000005, 0.8000000000000002, 10.6], [14.2, 9.7, 12.8, 7.300000000000001, 10.6, 10.5, 0.0, 4.0, 10.9, 2.5000000000000013], [10.200000000000001, 9.3, 12.8, 3.3000000000000007, 6.8, 7.1000000000000005, 4.0, 0.0, 7.9, 4.1], [3.3, 1.4000000000000001, 4.9, 4.6, 1.1, 0.8000000000000002, 10.9, 7.9, 0.0, 11.0], [14.299999999999999, 9.799999999999999, 10.299999999999999, 7.4, 10.7, 10.6, 2.5000000000000013, 4.1, 11.0, 0.0]]\n"
     ]
    }
   ],
   "source": [
    "print(data.truck_distances)"
   ]
  },
  {
   "cell_type": "code",
   "execution_count": 7,
   "metadata": {
    "scrolled": false
   },
   "outputs": [
    {
     "name": "stdout",
     "output_type": "stream",
     "text": [
      "[inf, 3.189043743820395, inf, 6.606814663663572, 3.22490309931942, 3.157530680769389, 12.120231020900551, 9.904544411531507, 2.6248809496813377, 11.289375536317321]\n"
     ]
    }
   ],
   "source": [
    "print(data.drone_distances)"
   ]
  },
  {
   "cell_type": "code",
   "execution_count": 8,
   "metadata": {},
   "outputs": [
    {
     "name": "stdout",
     "output_type": "stream",
     "text": [
      "Academic license - for non-commercial use only - expires 2021-07-04\n",
      "Using license file /home/quanghuy205/gurobi.lic\n"
     ]
    }
   ],
   "source": [
    "model = Model(\"PDSTSP\")"
   ]
  },
  {
   "cell_type": "code",
   "execution_count": 9,
   "metadata": {},
   "outputs": [],
   "source": [
    "#SET\n",
    "N = [i for i in range (1, data.customerNum)]\n",
    "G = [0] + N\n",
    "M = [m for m in range(data.droneNum)]\n",
    "\n",
    "N_d = data.cus_can_served_by_drone\n",
    "N_t = [i for i in N if i not in N_d]\n",
    "A = [(i,j) for i in G for j in G if i != j]\n",
    "C_truck = {(i,j): data.truck_distances[i][j] for i,j in A}\n",
    "C_drone = data.drone_distances\n",
    "\n",
    "#Decision variables\n",
    "# z_i = 0: if cus i is visited by vehicle, = 1 if visited by drones\n",
    "# x_ij if (i->j) in vehicle tour\n",
    "# # y_im = 1 if cus i assigned to drone m ()\n",
    "z = [i for i in G]\n",
    "x = [[[] for i in G] for j in G]  \n",
    "y = [[[] for i in G] for m in M] \n",
    "\n",
    "\n"
   ]
  },
  {
   "cell_type": "raw",
   "metadata": {},
   "source": [
    "###Add Constrains\n"
   ]
  },
  {
   "cell_type": "code",
   "execution_count": 10,
   "metadata": {},
   "outputs": [],
   "source": [
    "        \n",
    "#completion time\n",
    "T = model.addVar(0, GRB.INFINITY, 1.0, GRB.CONTINUOUS, \"traveltime\")\n",
    "expr = LinExpr(0)\n",
    "expr.addTerms(1.0, T)\n",
    "model.setObjective(expr, GRB.MINIMIZE)\n",
    "expr.clear()"
   ]
  },
  {
   "cell_type": "code",
   "execution_count": 11,
   "metadata": {},
   "outputs": [],
   "source": [
    "for i in G:\n",
    "    for j in range(i, data.customerNum):\n",
    "        if i != j:\n",
    "            x[i][j] = model.addVar(0.0, 1.0, 0.0, GRB.BINARY)\n",
    "            x[j][i] = x[i][j]\n",
    "            expr = LinExpr(0)\n",
    "            expr.addTerms(data.truck_distances[i][j], x[i][j])\n",
    "        else:\n",
    "            x[i][i] = model.addVar(0.0, 0.0, 0.0, GRB.BINARY)\n",
    "\n",
    "model.addConstr(T >= expr, \"truckTime\")\n",
    "expr.clear()"
   ]
  },
  {
   "cell_type": "code",
   "execution_count": 12,
   "metadata": {},
   "outputs": [],
   "source": [
    "for m in M:\n",
    "    expr = LinExpr(0)\n",
    "    for i in G:\n",
    "        if i in N_d:\n",
    "            y[m][i] = model.addVar(0.0, 1.0, 0.0, GRB.BINARY)\n",
    "            expr.addTerms(data.drone_distances[i], y[m][i])\n",
    "        else:\n",
    "            y[m][i] = model.addVar(0.0, 0.0, 0.0, GRB.BINARY)\n",
    "        \n",
    "    model.addConstr(T >= expr, \"dronetime\")\n",
    "    expr.clear()\n",
    "    \n",
    "    "
   ]
  },
  {
   "cell_type": "code",
   "execution_count": 13,
   "metadata": {},
   "outputs": [],
   "source": [
    "for j in range(1, data.customerNum):\n",
    "    expr = LinExpr(0)\n",
    "    for i in G:\n",
    "        if (i != j):\n",
    "            expr.addTerms(1.0, x[i][j])\n",
    "    if j in N_d:\n",
    "        for m in M:\n",
    "            expr.addTerms(1.0, y[m][j])\n",
    "    model.addConstr(expr == 1, \"served customer once\")\n",
    "    expr.clear()\n",
    "\n",
    "\n",
    "        \n"
   ]
  },
  {
   "cell_type": "code",
   "execution_count": 14,
   "metadata": {},
   "outputs": [],
   "source": [
    "expr = LinExpr(0)\n",
    "for i in range(1, data.customerNum):\n",
    "    expr.addTerms(1.0, x[0][i])\n",
    "    \n",
    "model.addConstr(expr == 2, \"deg-2 depot\")\n",
    "expr.clear()"
   ]
  },
  {
   "cell_type": "code",
   "execution_count": 15,
   "metadata": {},
   "outputs": [
    {
     "name": "stdout",
     "output_type": "stream",
     "text": [
      "Gurobi Optimizer version 9.1.2 build v9.1.2rc0 (linux64)\n",
      "Thread count: 6 physical cores, 12 logical processors, using up to 12 threads\n",
      "Optimize a model with 13 rows, 76 columns and 126 nonzeros\n",
      "Model fingerprint: 0x2cc351cb\n",
      "Variable types: 1 continuous, 75 integer (75 binary)\n",
      "Coefficient statistics:\n",
      "  Matrix range     [1e+00, 1e+01]\n",
      "  Objective range  [1e+00, 1e+00]\n",
      "  Bounds range     [1e+00, 1e+00]\n",
      "  RHS range        [1e+00, 2e+00]\n",
      "Found heuristic solution: objective 12.1202309\n",
      "Presolve removed 0 rows and 14 columns\n",
      "Presolve time: 0.00s\n",
      "Presolved: 13 rows, 62 columns, 126 nonzeros\n",
      "Variable types: 1 continuous, 61 integer (61 binary)\n",
      "\n",
      "Root relaxation: objective 0.000000e+00, 14 iterations, 0.00 seconds\n",
      "\n",
      "    Nodes    |    Current Node    |     Objective Bounds      |     Work\n",
      " Expl Unexpl |  Obj  Depth IntInf | Incumbent    BestBd   Gap | It/Node Time\n",
      "\n",
      "     0     0    0.00000    0    3   12.12023    0.00000   100%     -    0s\n",
      "H    0     0                       3.1575307    0.00000   100%     -    0s\n",
      "H    0     0                       2.6248809    0.00000   100%     -    0s\n",
      "     0     0 infeasible    0         2.62488    2.62488  0.00%     -    0s\n",
      "\n",
      "Cutting planes:\n",
      "  Gomory: 1\n",
      "  Clique: 1\n",
      "  Zero half: 1\n",
      "\n",
      "Explored 1 nodes (18 simplex iterations) in 0.01 seconds\n",
      "Thread count was 12 (of 12 available processors)\n",
      "\n",
      "Solution count 3: 2.62488 3.15753 12.1202 \n",
      "\n",
      "Optimal solution found (tolerance 1.00e-04)\n",
      "Best objective 2.624880949681e+00, best bound 2.624880949681e+00, gap 0.0000%\n"
     ]
    }
   ],
   "source": [
    "model.optimize()"
   ]
  },
  {
   "cell_type": "code",
   "execution_count": 16,
   "metadata": {},
   "outputs": [
    {
     "data": {
      "text/plain": [
       "2.6248809496813377"
      ]
     },
     "execution_count": 16,
     "metadata": {},
     "output_type": "execute_result"
    }
   ],
   "source": [
    "model.ObjVal"
   ]
  },
  {
   "cell_type": "code",
   "execution_count": 17,
   "metadata": {},
   "outputs": [
    {
     "name": "stdout",
     "output_type": "stream",
     "text": [
      "\n",
      "    Variable            X \n",
      "-------------------------\n",
      "  traveltime      2.62488 \n",
      "          C2            1 \n",
      "          C4            1 \n",
      "         C25            1 \n",
      "         C36            1 \n",
      "         C49            1 \n",
      "         C74            1 \n"
     ]
    }
   ],
   "source": [
    "model.printAttr('X')"
   ]
  },
  {
   "cell_type": "code",
   "execution_count": 18,
   "metadata": {},
   "outputs": [
    {
     "data": {
      "text/plain": [
       "[<gurobi.Var traveltime (value 2.6248809496813377)>,\n",
       " <gurobi.Var C1 (value 0.0)>,\n",
       " <gurobi.Var C2 (value 1.0)>,\n",
       " <gurobi.Var C3 (value -0.0)>,\n",
       " <gurobi.Var C4 (value 1.0)>,\n",
       " <gurobi.Var C5 (value -0.0)>,\n",
       " <gurobi.Var C6 (value -0.0)>,\n",
       " <gurobi.Var C7 (value -0.0)>,\n",
       " <gurobi.Var C8 (value -0.0)>,\n",
       " <gurobi.Var C9 (value -0.0)>,\n",
       " <gurobi.Var C10 (value -0.0)>,\n",
       " <gurobi.Var C11 (value 0.0)>,\n",
       " <gurobi.Var C12 (value -0.0)>,\n",
       " <gurobi.Var C13 (value -0.0)>,\n",
       " <gurobi.Var C14 (value -0.0)>,\n",
       " <gurobi.Var C15 (value -0.0)>,\n",
       " <gurobi.Var C16 (value -0.0)>,\n",
       " <gurobi.Var C17 (value -0.0)>,\n",
       " <gurobi.Var C18 (value -0.0)>,\n",
       " <gurobi.Var C19 (value -0.0)>,\n",
       " <gurobi.Var C20 (value 0.0)>,\n",
       " <gurobi.Var C21 (value -0.0)>,\n",
       " <gurobi.Var C22 (value -0.0)>,\n",
       " <gurobi.Var C23 (value -0.0)>,\n",
       " <gurobi.Var C24 (value -0.0)>,\n",
       " <gurobi.Var C25 (value 1.0)>,\n",
       " <gurobi.Var C26 (value -0.0)>,\n",
       " <gurobi.Var C27 (value -0.0)>,\n",
       " <gurobi.Var C28 (value 0.0)>,\n",
       " <gurobi.Var C29 (value -0.0)>,\n",
       " <gurobi.Var C30 (value -0.0)>,\n",
       " <gurobi.Var C31 (value -0.0)>,\n",
       " <gurobi.Var C32 (value -0.0)>,\n",
       " <gurobi.Var C33 (value -0.0)>,\n",
       " <gurobi.Var C34 (value -0.0)>,\n",
       " <gurobi.Var C35 (value 0.0)>,\n",
       " <gurobi.Var C36 (value 1.0)>,\n",
       " <gurobi.Var C37 (value -0.0)>,\n",
       " <gurobi.Var C38 (value -0.0)>,\n",
       " <gurobi.Var C39 (value -0.0)>,\n",
       " <gurobi.Var C40 (value -0.0)>,\n",
       " <gurobi.Var C41 (value 0.0)>,\n",
       " <gurobi.Var C42 (value -0.0)>,\n",
       " <gurobi.Var C43 (value -0.0)>,\n",
       " <gurobi.Var C44 (value -0.0)>,\n",
       " <gurobi.Var C45 (value -0.0)>,\n",
       " <gurobi.Var C46 (value 0.0)>,\n",
       " <gurobi.Var C47 (value -0.0)>,\n",
       " <gurobi.Var C48 (value -0.0)>,\n",
       " <gurobi.Var C49 (value 1.0)>,\n",
       " <gurobi.Var C50 (value 0.0)>,\n",
       " <gurobi.Var C51 (value -0.0)>,\n",
       " <gurobi.Var C52 (value -0.0)>,\n",
       " <gurobi.Var C53 (value 0.0)>,\n",
       " <gurobi.Var C54 (value -0.0)>,\n",
       " <gurobi.Var C55 (value 0.0)>,\n",
       " <gurobi.Var C56 (value 0.0)>,\n",
       " <gurobi.Var C57 (value -0.0)>,\n",
       " <gurobi.Var C58 (value 0.0)>,\n",
       " <gurobi.Var C59 (value -0.0)>,\n",
       " <gurobi.Var C60 (value -0.0)>,\n",
       " <gurobi.Var C61 (value -0.0)>,\n",
       " <gurobi.Var C62 (value -0.0)>,\n",
       " <gurobi.Var C63 (value -0.0)>,\n",
       " <gurobi.Var C64 (value -0.0)>,\n",
       " <gurobi.Var C65 (value -0.0)>,\n",
       " <gurobi.Var C66 (value 0.0)>,\n",
       " <gurobi.Var C67 (value -0.0)>,\n",
       " <gurobi.Var C68 (value 0.0)>,\n",
       " <gurobi.Var C69 (value -0.0)>,\n",
       " <gurobi.Var C70 (value -0.0)>,\n",
       " <gurobi.Var C71 (value -0.0)>,\n",
       " <gurobi.Var C72 (value -0.0)>,\n",
       " <gurobi.Var C73 (value -0.0)>,\n",
       " <gurobi.Var C74 (value 1.0)>,\n",
       " <gurobi.Var C75 (value -0.0)>]"
      ]
     },
     "execution_count": 18,
     "metadata": {},
     "output_type": "execute_result"
    }
   ],
   "source": [
    "model.getVars()"
   ]
  },
  {
   "cell_type": "code",
   "execution_count": null,
   "metadata": {},
   "outputs": [],
   "source": []
  }
 ],
 "metadata": {
  "kernelspec": {
   "display_name": "Python 3",
   "language": "python",
   "name": "python3"
  },
  "language_info": {
   "codemirror_mode": {
    "name": "ipython",
    "version": 3
   },
   "file_extension": ".py",
   "mimetype": "text/x-python",
   "name": "python",
   "nbconvert_exporter": "python",
   "pygments_lexer": "ipython3",
   "version": "3.8.5"
  }
 },
 "nbformat": 4,
 "nbformat_minor": 4
}
