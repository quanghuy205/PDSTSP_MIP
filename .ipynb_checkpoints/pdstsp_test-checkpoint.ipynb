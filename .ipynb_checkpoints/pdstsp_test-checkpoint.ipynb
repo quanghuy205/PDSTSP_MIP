{
 "cells": [
  {
   "cell_type": "code",
   "execution_count": 1,
   "metadata": {},
   "outputs": [],
   "source": [
    "from gurobi import *\n",
    "import numpy as np\n",
    "import pandas as pd\n",
    "from scipy.spatial import distance\n",
    "from itertools import chain, combinations"
   ]
  },
  {
   "cell_type": "markdown",
   "metadata": {},
   "source": [
    "# PDSTSP\n"
   ]
  },
  {
   "cell_type": "code",
   "execution_count": 2,
   "metadata": {},
   "outputs": [],
   "source": [
    "class Data:\n",
    "    def __init__(self):\n",
    "        self.customerNum = 0 \n",
    "        self.nodeNum     = 0 \n",
    "        self.droneNum    = 2\n",
    "        self.cities      = []\n",
    "        self.cor_X       = [] \n",
    "        self.cor_Y       = [] \n",
    "        self.serviceTime = [] \n",
    "        self.disMatrix   = [[]]\n",
    "        self.dt          = None\n",
    "        self.i_pot = None\n",
    "        self.cus_can_served_by_drone = None\n",
    "        self.drone_distances = None\n",
    "        self.truck_distances = None\n",
    "        \n",
    "      \n",
    "        \n",
    "\n",
    "    def readData(self, path):\n",
    "        self.dt = pd.read_csv(path, header = None).to_numpy()[:-1]\n",
    "        self.customerNum = len(self.dt)\n",
    "        self.i_pot = self.dt[0, 1:3]\n",
    "        self.nodeNum = self.customerNum + 2 \n",
    "        \n",
    "        self.cities = [self.dt[i, 0] for i in range(len(self.dt))]\n",
    "        \n",
    "        self.cus_can_served_by_drone = [i for i in range(len(self.dt)) if self.dt[i, 3] == 0]\n",
    "        \n",
    "        self.drone_distances = [distance.euclidean((self.dt[i, 1:3]), self.i_pot)\n",
    "                                if self.dt[i, 3] == 0 else float('inf')\n",
    "                                for i in range(len(self.dt))]\n",
    "        self.truck_distances = [[distance.cityblock(self.dt[i, 1:3], self.dt[j, 1:3])\n",
    "                                 for i in range(len(self.dt))] for j in range(len(self.dt))]\n",
    "    \n",
    "    \n",
    "\n",
    "        \n",
    "       \n"
   ]
  },
  {
   "cell_type": "code",
   "execution_count": 3,
   "metadata": {},
   "outputs": [
    {
     "name": "stdout",
     "output_type": "stream",
     "text": [
      "[[ 0.   0.   0.   0.4]\n",
      " [ 1.   2.1  2.4  0. ]\n",
      " [ 2.   3.8  0.6  1. ]\n",
      " [ 3.   0.3  6.6  0. ]\n",
      " [ 4.   0.4  3.2  0. ]\n",
      " [ 5.   0.6  3.1  0. ]\n",
      " [ 6.   2.3 11.9  0. ]\n",
      " [ 7.   0.3  9.9  0. ]\n",
      " [ 8.   0.8  2.5  0. ]\n",
      " [ 9.   3.6 10.7  0. ]]\n",
      "10\n"
     ]
    }
   ],
   "source": [
    "data = Data()\n",
    "\n",
    "data.readData(\"20140813T111857.csv\")\n",
    "print(data.dt)\n",
    "\n",
    "print(data.customerNum)"
   ]
  },
  {
   "cell_type": "code",
   "execution_count": 4,
   "metadata": {},
   "outputs": [
    {
     "name": "stdout",
     "output_type": "stream",
     "text": [
      "[2.1 2.4]\n"
     ]
    }
   ],
   "source": [
    "print(data.dt[1, 1:3])"
   ]
  },
  {
   "cell_type": "code",
   "execution_count": 5,
   "metadata": {
    "scrolled": true
   },
   "outputs": [
    {
     "name": "stdout",
     "output_type": "stream",
     "text": [
      "[0.0, 1.0, 2.0, 3.0, 4.0, 5.0, 6.0, 7.0, 8.0, 9.0]\n"
     ]
    }
   ],
   "source": [
    "print(data.cities)"
   ]
  },
  {
   "cell_type": "code",
   "execution_count": 6,
   "metadata": {},
   "outputs": [],
   "source": [
    "# print(data.truck_distances)"
   ]
  },
  {
   "cell_type": "code",
   "execution_count": 7,
   "metadata": {
    "scrolled": false
   },
   "outputs": [
    {
     "name": "stdout",
     "output_type": "stream",
     "text": [
      "[inf, 3.189043743820395, inf, 6.606814663663572, 3.22490309931942, 3.157530680769389, 12.120231020900551, 9.904544411531507, 2.6248809496813377, 11.289375536317321]\n"
     ]
    }
   ],
   "source": [
    "print(data.drone_distances)"
   ]
  },
  {
   "cell_type": "code",
   "execution_count": 8,
   "metadata": {},
   "outputs": [
    {
     "name": "stdout",
     "output_type": "stream",
     "text": [
      "Academic license - for non-commercial use only - expires 2021-07-04\n",
      "Using license file /home/quanghuy205/gurobi.lic\n"
     ]
    }
   ],
   "source": [
    "model = Model(\"PDSTSP\")"
   ]
  },
  {
   "cell_type": "code",
   "execution_count": 54,
   "metadata": {},
   "outputs": [],
   "source": [
    "#SET\n",
    "N = [i for i in range (1, data.customerNum)]\n",
    "G = [0] + N\n",
    "M = [m for m in range(data.droneNum)]\n",
    "\n",
    "N_d = data.cus_can_served_by_drone\n",
    "N_t = [i for i in N if i not in N_d]\n",
    "A = [(i,j) for i in G for j in G if i != j]\n",
    "C_truck = {(i,j): data.truck_distances[i][j] for i,j in A}\n",
    "C_drone = data.drone_distances\n",
    "\n",
    "#Decision variables\n",
    "# z_i = 0: if cus i is visited by vehicle, = 1 if visited by drones\n",
    "# x_ij if (i->j) in vehicle tour\n",
    "# # y_im = 1 if cus i assigned to drone m ()\n",
    "z = [i for i in G]\n",
    "x = [[[] for i in G] for j in G]  \n",
    "y = [[[] for i in G] for m in M] \n",
    "\n",
    "\n"
   ]
  },
  {
   "cell_type": "raw",
   "metadata": {},
   "source": [
    "###Add Constrains\n"
   ]
  },
  {
   "cell_type": "code",
   "execution_count": 60,
   "metadata": {},
   "outputs": [],
   "source": [
    "        \n",
    "#completion time\n",
    "T = model.addVar(0, GRB.INFINITY, 1.0, GRB.INTEGER, \"traveltime\")\n",
    "expr = LinExpr(0)\n",
    "expr.addTerms(1.0, T)\n",
    "model.setObjective(expr, GRB.MINIMIZE)\n",
    "expr.clear()"
   ]
  },
  {
   "cell_type": "code",
   "execution_count": 61,
   "metadata": {},
   "outputs": [],
   "source": [
    "for i in G:\n",
    "    for j in range(i, data.customerNum):\n",
    "        if i != j:\n",
    "            x[i][j] = model.addVar(0.0, 1.0, 0.0, GRB.BINARY)\n",
    "            x[j][i] = x[i][j]\n",
    "            expr = LinExpr(0)\n",
    "            expr.addTerms(data.truck_distances[i][j], x[i][j])\n",
    "        else:\n",
    "            x[i][i] = model.addVar(0.0, 0.0, 0.0, GRB.BINARY)\n",
    "\n",
    "model.addConstr(T >= expr, \"truckTime\")\n",
    "expr.clear()"
   ]
  },
  {
   "cell_type": "code",
   "execution_count": 62,
   "metadata": {},
   "outputs": [],
   "source": [
    "for m in M:\n",
    "    expr = LinExpr(0)\n",
    "    for i in G:\n",
    "        if i in N_d:\n",
    "            y[m][i] = model.addVar(0.0, 1.0, 0.0, GRB.BINARY)\n",
    "            expr.addTerms(data.drone_distances[i], y[m][i])\n",
    "        else:\n",
    "            y[m][i] = model.addVar(0.0, 0.0, 0.0, GRB.BINARY)\n",
    "        \n",
    "    model.addConstr(T >= expr, \"dronetime\")\n",
    "    expr.clear()\n",
    "    \n",
    "    "
   ]
  },
  {
   "cell_type": "code",
   "execution_count": null,
   "metadata": {},
   "outputs": [],
   "source": [
    "\n"
   ]
  },
  {
   "cell_type": "code",
   "execution_count": null,
   "metadata": {},
   "outputs": [],
   "source": []
  }
 ],
 "metadata": {
  "kernelspec": {
   "display_name": "Python 3",
   "language": "python",
   "name": "python3"
  },
  "language_info": {
   "codemirror_mode": {
    "name": "ipython",
    "version": 3
   },
   "file_extension": ".py",
   "mimetype": "text/x-python",
   "name": "python",
   "nbconvert_exporter": "python",
   "pygments_lexer": "ipython3",
   "version": "3.8.5"
  }
 },
 "nbformat": 4,
 "nbformat_minor": 4
}
