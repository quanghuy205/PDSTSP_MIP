{
 "cells": [
  {
   "cell_type": "code",
   "execution_count": 1,
   "metadata": {},
   "outputs": [],
   "source": [
    "from gurobi import *\n",
    "import numpy as np\n",
    "import pandas as pd\n",
    "from scipy.spatial import distance\n",
    "from itertools import chain, combinations"
   ]
  },
  {
   "cell_type": "markdown",
   "metadata": {},
   "source": [
    "# PDSTSP\n"
   ]
  },
  {
   "cell_type": "code",
   "execution_count": 2,
   "metadata": {},
   "outputs": [],
   "source": [
    "class Data:\n",
    "    def __init__(self):\n",
    "        self.customerNum = 0 \n",
    "        self.nodeNum     = 0 \n",
    "        self.droneNum    = 2\n",
    "        self.cities      = []\n",
    "        self.cor_X       = [] \n",
    "        self.cor_Y       = [] \n",
    "        self.serviceTime = [] \n",
    "        self.disMatrix   = [[]]\n",
    "        self.dt          = None\n",
    "        self.i_pot = None\n",
    "        self.cus_can_served_by_drone = None\n",
    "        self.drone_distances = None\n",
    "        self.truck_distances = None\n",
    "        \n",
    "      \n",
    "        \n",
    "\n",
    "    def readData(self, path):\n",
    "        self.dt = pd.read_csv(path, header = None).to_numpy()[:-1]\n",
    "        self.customerNum = len(self.dt)\n",
    "        self.i_pot = self.dt[0, 1:3]\n",
    "        self.nodeNum = self.customerNum + 2 \n",
    "        \n",
    "        self.cities = [self.dt[i, 0] for i in range(len(self.dt))]\n",
    "        \n",
    "        self.cus_can_served_by_drone = [i for i in range(len(self.dt)) if self.dt[i, 3] == 0]\n",
    "        \n",
    "        self.drone_distances = [distance.euclidean((self.dt[i, 1:3]), self.i_pot)\n",
    "                                if self.dt[i, 3] == 0 else float('inf')\n",
    "                                for i in range(len(self.dt))]\n",
    "        self.truck_distances = [[distance.cityblock(self.dt[i, 1:3], self.dt[j, 1:3])\n",
    "                                 for i in range(len(self.dt))] for j in range(len(self.dt))]\n",
    "    \n",
    "    \n",
    "\n",
    "        \n",
    "       \n"
   ]
  },
  {
   "cell_type": "code",
   "execution_count": 3,
   "metadata": {},
   "outputs": [
    {
     "name": "stdout",
     "output_type": "stream",
     "text": [
      "[[ 0.   0.   0.   0.4]\n",
      " [ 1.   2.1  2.4  0. ]\n",
      " [ 2.   3.8  0.6  1. ]\n",
      " [ 3.   0.3  6.6  0. ]\n",
      " [ 4.   0.4  3.2  0. ]\n",
      " [ 5.   0.6  3.1  0. ]\n",
      " [ 6.   2.3 11.9  0. ]\n",
      " [ 7.   0.3  9.9  0. ]\n",
      " [ 8.   0.8  2.5  0. ]\n",
      " [ 9.   3.6 10.7  0. ]]\n",
      "10\n"
     ]
    }
   ],
   "source": [
    "data = Data()\n",
    "\n",
    "data.readData(\"20140813T111857.csv\")\n",
    "print(data.dt)\n",
    "\n",
    "print(data.customerNum)"
   ]
  },
  {
   "cell_type": "code",
   "execution_count": 4,
   "metadata": {},
   "outputs": [
    {
     "name": "stdout",
     "output_type": "stream",
     "text": [
      "[2.1 2.4]\n"
     ]
    }
   ],
   "source": [
    "print(data.dt[1, 1:3])"
   ]
  },
  {
   "cell_type": "code",
   "execution_count": 5,
   "metadata": {
    "scrolled": true
   },
   "outputs": [
    {
     "name": "stdout",
     "output_type": "stream",
     "text": [
      "[0.0, 1.0, 2.0, 3.0, 4.0, 5.0, 6.0, 7.0, 8.0, 9.0]\n"
     ]
    }
   ],
   "source": [
    "print(data.cities)"
   ]
  },
  {
   "cell_type": "code",
   "execution_count": 6,
   "metadata": {},
   "outputs": [
    {
     "name": "stdout",
     "output_type": "stream",
     "text": [
      "[[0.0, 4.5, 4.3999999999999995, 6.8999999999999995, 3.6, 3.7, 14.2, 10.200000000000001, 3.3, 14.299999999999999], [4.5, 0.0, 3.4999999999999996, 5.999999999999999, 2.5000000000000004, 2.2, 9.7, 9.3, 1.4000000000000001, 9.799999999999999], [4.3999999999999995, 3.4999999999999996, 0.0, 9.5, 6.0, 5.699999999999999, 12.8, 12.8, 4.9, 10.299999999999999], [6.8999999999999995, 5.999999999999999, 9.5, 0.0, 3.4999999999999996, 3.7999999999999994, 7.300000000000001, 3.3000000000000007, 4.6, 7.4], [3.6, 2.5000000000000004, 6.0, 3.4999999999999996, 0.0, 0.30000000000000004, 10.6, 6.8, 1.1, 10.7], [3.7, 2.2, 5.699999999999999, 3.7999999999999994, 0.30000000000000004, 0.0, 10.5, 7.1000000000000005, 0.8000000000000002, 10.6], [14.2, 9.7, 12.8, 7.300000000000001, 10.6, 10.5, 0.0, 4.0, 10.9, 2.5000000000000013], [10.200000000000001, 9.3, 12.8, 3.3000000000000007, 6.8, 7.1000000000000005, 4.0, 0.0, 7.9, 4.1], [3.3, 1.4000000000000001, 4.9, 4.6, 1.1, 0.8000000000000002, 10.9, 7.9, 0.0, 11.0], [14.299999999999999, 9.799999999999999, 10.299999999999999, 7.4, 10.7, 10.6, 2.5000000000000013, 4.1, 11.0, 0.0]]\n"
     ]
    }
   ],
   "source": [
    "print(data.truck_distances)"
   ]
  },
  {
   "cell_type": "code",
   "execution_count": 7,
   "metadata": {
    "scrolled": false
   },
   "outputs": [
    {
     "name": "stdout",
     "output_type": "stream",
     "text": [
      "[inf, 3.189043743820395, inf, 6.606814663663572, 3.22490309931942, 3.157530680769389, 12.120231020900551, 9.904544411531507, 2.6248809496813377, 11.289375536317321]\n"
     ]
    }
   ],
   "source": [
    "print(data.drone_distances)"
   ]
  },
  {
   "cell_type": "code",
   "execution_count": 8,
   "metadata": {},
   "outputs": [
    {
     "name": "stdout",
     "output_type": "stream",
     "text": [
      "Academic license - for non-commercial use only - expires 2021-07-04\n",
      "Using license file /home/quanghuy205/gurobi.lic\n"
     ]
    }
   ],
   "source": [
    "model = Model(\"PDSTSP\")"
   ]
  },
  {
   "cell_type": "code",
   "execution_count": 9,
   "metadata": {},
   "outputs": [],
   "source": [
    "#SET\n",
    "V = [i for i in range(data.customerNum)]\n",
    "C = [i for i in range (1, data.customerNum)]\n",
    "U = [k for k in range(data.droneNum)]\n",
    "\n",
    "C_U = data.cus_can_served_by_drone\n",
    "\n",
    "\n",
    "C_truck = {(i,j): data.truck_distances[i][j] for i in V for j in V}\n",
    "C_drone = data.drone_distances\n",
    "\n",
    "#Decision variables\n",
    "# z_i = 0: if cus i is visited by vehicle, = 1 if visited by drones\n",
    "# x_ij if (i->j) in vehicle tour\n",
    "# # y_im = 1 if cus i assigned to drone m ()\n",
    "\n",
    "x = [[[] for i in V] for j in V]  \n",
    "y = [[[] for i in V] for k in U] \n",
    "\n"
   ]
  },
  {
   "cell_type": "raw",
   "metadata": {},
   "source": [
    "###Add Constrains\n"
   ]
  },
  {
   "cell_type": "code",
   "execution_count": 10,
   "metadata": {},
   "outputs": [],
   "source": [
    "#1\n",
    "#completion time\n",
    "alpha = model.addVar(0.0, GRB.INFINITY, 0.0, GRB.CONTINUOUS, \"traveltime\")\n",
    "expr = LinExpr(0)\n",
    "expr.addTerms(1.0, alpha)\n",
    "model.setObjective(expr, GRB.MINIMIZE)\n",
    "expr.clear()"
   ]
  },
  {
   "cell_type": "code",
   "execution_count": 11,
   "metadata": {},
   "outputs": [],
   "source": [
    "#2\n",
    "for i in V:\n",
    "    for j in V:\n",
    "            x[i][j] = model.addVar(0.0, 1.0, 0.0, GRB.BINARY, \"x%d,%d\" %(i,j))\n",
    "            expr = LinExpr(0)\n",
    "            expr.addTerms(data.truck_distances[i][j], x[i][j])\n",
    "    expr.clear()\n",
    "model.addConstr(alpha >= expr, \"truckTime\")\n",
    "expr.clear()\n"
   ]
  },
  {
   "cell_type": "code",
   "execution_count": 12,
   "metadata": {},
   "outputs": [
    {
     "data": {
      "text/plain": [
       "[]"
      ]
     },
     "execution_count": 12,
     "metadata": {},
     "output_type": "execute_result"
    }
   ],
   "source": [
    "#3\n",
    "for k in U:\n",
    "    expr = LinExpr(0)\n",
    "    for i in C_U:\n",
    "        y[k][i] = model.addVar(0.0, 1.0, 0.0, GRB.BINARY, \"y%d,%d\" %(k,i))\n",
    "        expr.addTerms(data.drone_distances[i], y[k][i])\n",
    "        \n",
    "    model.addConstr(alpha >= expr, \"dronetime\")\n",
    "    expr.clear()\n",
    "    \n",
    "model.getVars()"
   ]
  },
  {
   "cell_type": "code",
   "execution_count": 13,
   "metadata": {},
   "outputs": [],
   "source": [
    "#4\n",
    "for j in C:\n",
    "    \n",
    "    expr1 = LinExpr(0)\n",
    "    expr2 = LinExpr(0)\n",
    "    \n",
    "    for i in V:\n",
    "        expr1.addTerms(1.0, x[i][j])\n",
    "    \n",
    "    for k in U:\n",
    "        if j in C_U:\n",
    "            expr2.addTerms(1.0, y[k][j])\n",
    "    \n",
    "    model.addConstr(expr1 + expr2 == 1, \"served customer once\")\n",
    "    expr1.clear()\n",
    "    expr2.clear()\n",
    "\n",
    " \n"
   ]
  },
  {
   "cell_type": "code",
   "execution_count": 14,
   "metadata": {},
   "outputs": [],
   "source": [
    "#5\n",
    "for i in C:\n",
    "    \n",
    "    expr1 = LinExpr(0)\n",
    "    expr2 = LinExpr(0)\n",
    "    \n",
    "    for j in V:\n",
    "        expr1.addTerms(1.0, x[i][j])\n",
    "    \n",
    "    for k in U:\n",
    "        if i in C_U:\n",
    "            expr2.addTerms(1.0, y[k][i])\n",
    "    \n",
    "    model.addConstr(expr1 + expr2 == 1, \"served customer once\")\n",
    "    expr1.clear()\n",
    "    expr2.clear()"
   ]
  },
  {
   "cell_type": "code",
   "execution_count": 15,
   "metadata": {},
   "outputs": [],
   "source": [
    "#6\n",
    "for i in V:\n",
    "    expr1 = LinExpr(0)\n",
    "    expr2 = LinExpr(0)\n",
    "    \n",
    "    for j in V:\n",
    "        expr1.addTerms(1.0, x[j][i])\n",
    "    for h in V:\n",
    "        expr2.addTerms(1.0, x[i][h])\n",
    "    model.addConstr(expr1 == expr2, \"flow conservation\")\n",
    "    expr1.clear()\n",
    "    expr2.clear()\n",
    "expr1.clear()\n",
    "expr2.clear()\n"
   ]
  },
  {
   "cell_type": "code",
   "execution_count": 16,
   "metadata": {},
   "outputs": [
    {
     "name": "stdout",
     "output_type": "stream",
     "text": [
      "1023\n",
      "0.0078582763671875  GB\n"
     ]
    },
    {
     "data": {
      "text/plain": [
       "(0,)"
      ]
     },
     "execution_count": 16,
     "metadata": {},
     "output_type": "execute_result"
    }
   ],
   "source": [
    "#get all subtours\n",
    "def powerset(iterable):\n",
    "    \"powerset([1,2,3]) --> () (1,) (2,) (3,) (1,2) (1,3) (2,3) (1,2,3)\"\n",
    "    s = list(iterable)\n",
    "    return chain.from_iterable(combinations(s, r) for r in range(len(s)+1))\n",
    "\n",
    "S = list(powerset(range(len(data.cities))))\n",
    "# The first element of the list is the empty set and the last element is the full set, hence we remove them.\n",
    "S = S[1:(len(S))]\n",
    "\n",
    "print(len(S))\n",
    "import sys\n",
    "print(sys.getsizeof(S)/1024/1024,\" GB\")\n",
    "# print(S)\n",
    "S[0]"
   ]
  },
  {
   "cell_type": "code",
   "execution_count": 17,
   "metadata": {
    "scrolled": false
   },
   "outputs": [],
   "source": [
    "for s in S:\n",
    "    expr1 = LinExpr(0)\n",
    "    expr2 = LinExpr(0)\n",
    "    \n",
    "    for i in s:\n",
    "        for j in V:\n",
    "            if j not in S:\n",
    "                expr1.addTerms(1.0, x[i][j])\n",
    "    \n",
    "    for i in s:\n",
    "        for k in U:\n",
    "            if i in C_U:\n",
    "                expr2.addTerms(1.0, y[k][i])\n",
    "            \n",
    "    model.addConstr(expr1 + expr2 >= 1)\n",
    "    expr1.clear()\n",
    "    expr2.clear()\n"
   ]
  },
  {
   "cell_type": "code",
   "execution_count": null,
   "metadata": {},
   "outputs": [],
   "source": []
  },
  {
   "cell_type": "code",
   "execution_count": 18,
   "metadata": {},
   "outputs": [
    {
     "name": "stdout",
     "output_type": "stream",
     "text": [
      "Gurobi Optimizer version 9.1.2 build v9.1.2rc0 (linux64)\n",
      "Thread count: 6 physical cores, 12 logical processors, using up to 12 threads\n",
      "Optimize a model with 1054 rows, 117 columns and 59803 nonzeros\n",
      "Model fingerprint: 0xec7908c0\n",
      "Variable types: 1 continuous, 116 integer (116 binary)\n",
      "Coefficient statistics:\n",
      "  Matrix range     [1e+00, 1e+01]\n",
      "  Objective range  [1e+00, 1e+00]\n",
      "  Bounds range     [1e-01, 1e+00]\n",
      "  RHS range        [1e+00, 1e+00]\n",
      "Found heuristic solution: objective 11.2893755\n",
      "Presolve removed 1026 rows and 18 columns\n",
      "Presolve time: 0.02s\n",
      "Presolved: 28 rows, 99 columns, 360 nonzeros\n",
      "Found heuristic solution: objective 0.1000000\n",
      "Variable types: 0 continuous, 99 integer (99 binary)\n",
      "\n",
      "Explored 0 nodes (0 simplex iterations) in 0.03 seconds\n",
      "Thread count was 12 (of 12 available processors)\n",
      "\n",
      "Solution count 2: 0.1 11.2894 \n",
      "\n",
      "Optimal solution found (tolerance 1.00e-04)\n",
      "Best objective 1.000000000000e-01, best bound 1.000000000000e-01, gap 0.0000%\n"
     ]
    }
   ],
   "source": [
    "model.optimize()"
   ]
  },
  {
   "cell_type": "code",
   "execution_count": 19,
   "metadata": {},
   "outputs": [
    {
     "data": {
      "text/plain": [
       "0.1"
      ]
     },
     "execution_count": 19,
     "metadata": {},
     "output_type": "execute_result"
    }
   ],
   "source": [
    "model.ObjVal"
   ]
  },
  {
   "cell_type": "code",
   "execution_count": 20,
   "metadata": {},
   "outputs": [
    {
     "name": "stdout",
     "output_type": "stream",
     "text": [
      "\n",
      "    Variable            X \n",
      "-------------------------\n",
      "  traveltime          0.1 \n",
      "        x0,0            1 \n",
      "        x0,6            1 \n",
      "        x1,5            1 \n",
      "        x2,1            1 \n",
      "        x3,0            1 \n",
      "        x4,8            1 \n",
      "        x5,7            1 \n",
      "        x6,3            1 \n",
      "        x7,4            1 \n",
      "        x8,2            1 \n",
      "        x9,9            1 \n"
     ]
    }
   ],
   "source": [
    "model.printAttr('X')"
   ]
  },
  {
   "cell_type": "code",
   "execution_count": 21,
   "metadata": {},
   "outputs": [
    {
     "data": {
      "text/plain": [
       "[<gurobi.Var traveltime (value 0.1)>,\n",
       " <gurobi.Var x0,0 (value 1.0)>,\n",
       " <gurobi.Var x0,1 (value 0.0)>,\n",
       " <gurobi.Var x0,2 (value 0.0)>,\n",
       " <gurobi.Var x0,3 (value 0.0)>,\n",
       " <gurobi.Var x0,4 (value 0.0)>,\n",
       " <gurobi.Var x0,5 (value 0.0)>,\n",
       " <gurobi.Var x0,6 (value 1.0)>,\n",
       " <gurobi.Var x0,7 (value 0.0)>,\n",
       " <gurobi.Var x0,8 (value 0.0)>,\n",
       " <gurobi.Var x0,9 (value 0.0)>,\n",
       " <gurobi.Var x1,0 (value 0.0)>,\n",
       " <gurobi.Var x1,1 (value 0.0)>,\n",
       " <gurobi.Var x1,2 (value 0.0)>,\n",
       " <gurobi.Var x1,3 (value 0.0)>,\n",
       " <gurobi.Var x1,4 (value 0.0)>,\n",
       " <gurobi.Var x1,5 (value 1.0)>,\n",
       " <gurobi.Var x1,6 (value 0.0)>,\n",
       " <gurobi.Var x1,7 (value 0.0)>,\n",
       " <gurobi.Var x1,8 (value 0.0)>,\n",
       " <gurobi.Var x1,9 (value 0.0)>,\n",
       " <gurobi.Var x2,0 (value 0.0)>,\n",
       " <gurobi.Var x2,1 (value 1.0)>,\n",
       " <gurobi.Var x2,2 (value 0.0)>,\n",
       " <gurobi.Var x2,3 (value 0.0)>,\n",
       " <gurobi.Var x2,4 (value 0.0)>,\n",
       " <gurobi.Var x2,5 (value 0.0)>,\n",
       " <gurobi.Var x2,6 (value 0.0)>,\n",
       " <gurobi.Var x2,7 (value 0.0)>,\n",
       " <gurobi.Var x2,8 (value 0.0)>,\n",
       " <gurobi.Var x2,9 (value 0.0)>,\n",
       " <gurobi.Var x3,0 (value 1.0)>,\n",
       " <gurobi.Var x3,1 (value 0.0)>,\n",
       " <gurobi.Var x3,2 (value 0.0)>,\n",
       " <gurobi.Var x3,3 (value 0.0)>,\n",
       " <gurobi.Var x3,4 (value 0.0)>,\n",
       " <gurobi.Var x3,5 (value 0.0)>,\n",
       " <gurobi.Var x3,6 (value 0.0)>,\n",
       " <gurobi.Var x3,7 (value 0.0)>,\n",
       " <gurobi.Var x3,8 (value 0.0)>,\n",
       " <gurobi.Var x3,9 (value 0.0)>,\n",
       " <gurobi.Var x4,0 (value 0.0)>,\n",
       " <gurobi.Var x4,1 (value 0.0)>,\n",
       " <gurobi.Var x4,2 (value 0.0)>,\n",
       " <gurobi.Var x4,3 (value 0.0)>,\n",
       " <gurobi.Var x4,4 (value 0.0)>,\n",
       " <gurobi.Var x4,5 (value 0.0)>,\n",
       " <gurobi.Var x4,6 (value 0.0)>,\n",
       " <gurobi.Var x4,7 (value 0.0)>,\n",
       " <gurobi.Var x4,8 (value 1.0)>,\n",
       " <gurobi.Var x4,9 (value 0.0)>,\n",
       " <gurobi.Var x5,0 (value 0.0)>,\n",
       " <gurobi.Var x5,1 (value 0.0)>,\n",
       " <gurobi.Var x5,2 (value 0.0)>,\n",
       " <gurobi.Var x5,3 (value 0.0)>,\n",
       " <gurobi.Var x5,4 (value 0.0)>,\n",
       " <gurobi.Var x5,5 (value 0.0)>,\n",
       " <gurobi.Var x5,6 (value 0.0)>,\n",
       " <gurobi.Var x5,7 (value 1.0)>,\n",
       " <gurobi.Var x5,8 (value 0.0)>,\n",
       " <gurobi.Var x5,9 (value 0.0)>,\n",
       " <gurobi.Var x6,0 (value 0.0)>,\n",
       " <gurobi.Var x6,1 (value 0.0)>,\n",
       " <gurobi.Var x6,2 (value 0.0)>,\n",
       " <gurobi.Var x6,3 (value 1.0)>,\n",
       " <gurobi.Var x6,4 (value 0.0)>,\n",
       " <gurobi.Var x6,5 (value 0.0)>,\n",
       " <gurobi.Var x6,6 (value 0.0)>,\n",
       " <gurobi.Var x6,7 (value 0.0)>,\n",
       " <gurobi.Var x6,8 (value 0.0)>,\n",
       " <gurobi.Var x6,9 (value 0.0)>,\n",
       " <gurobi.Var x7,0 (value 0.0)>,\n",
       " <gurobi.Var x7,1 (value 0.0)>,\n",
       " <gurobi.Var x7,2 (value 0.0)>,\n",
       " <gurobi.Var x7,3 (value 0.0)>,\n",
       " <gurobi.Var x7,4 (value 1.0)>,\n",
       " <gurobi.Var x7,5 (value 0.0)>,\n",
       " <gurobi.Var x7,6 (value 0.0)>,\n",
       " <gurobi.Var x7,7 (value 0.0)>,\n",
       " <gurobi.Var x7,8 (value 0.0)>,\n",
       " <gurobi.Var x7,9 (value 0.0)>,\n",
       " <gurobi.Var x8,0 (value 0.0)>,\n",
       " <gurobi.Var x8,1 (value 0.0)>,\n",
       " <gurobi.Var x8,2 (value 1.0)>,\n",
       " <gurobi.Var x8,3 (value 0.0)>,\n",
       " <gurobi.Var x8,4 (value 0.0)>,\n",
       " <gurobi.Var x8,5 (value 0.0)>,\n",
       " <gurobi.Var x8,6 (value 0.0)>,\n",
       " <gurobi.Var x8,7 (value 0.0)>,\n",
       " <gurobi.Var x8,8 (value 0.0)>,\n",
       " <gurobi.Var x8,9 (value 0.0)>,\n",
       " <gurobi.Var x9,0 (value 0.0)>,\n",
       " <gurobi.Var x9,1 (value 0.0)>,\n",
       " <gurobi.Var x9,2 (value 0.0)>,\n",
       " <gurobi.Var x9,3 (value 0.0)>,\n",
       " <gurobi.Var x9,4 (value 0.0)>,\n",
       " <gurobi.Var x9,5 (value 0.0)>,\n",
       " <gurobi.Var x9,6 (value 0.0)>,\n",
       " <gurobi.Var x9,7 (value 0.0)>,\n",
       " <gurobi.Var x9,8 (value 0.0)>,\n",
       " <gurobi.Var x9,9 (value 1.0)>,\n",
       " <gurobi.Var y0,1 (value 0.0)>,\n",
       " <gurobi.Var y0,3 (value 0.0)>,\n",
       " <gurobi.Var y0,4 (value 0.0)>,\n",
       " <gurobi.Var y0,5 (value 0.0)>,\n",
       " <gurobi.Var y0,6 (value 0.0)>,\n",
       " <gurobi.Var y0,7 (value 0.0)>,\n",
       " <gurobi.Var y0,8 (value 0.0)>,\n",
       " <gurobi.Var y0,9 (value 0.0)>,\n",
       " <gurobi.Var y1,1 (value 0.0)>,\n",
       " <gurobi.Var y1,3 (value 0.0)>,\n",
       " <gurobi.Var y1,4 (value 0.0)>,\n",
       " <gurobi.Var y1,5 (value 0.0)>,\n",
       " <gurobi.Var y1,6 (value 0.0)>,\n",
       " <gurobi.Var y1,7 (value 0.0)>,\n",
       " <gurobi.Var y1,8 (value 0.0)>,\n",
       " <gurobi.Var y1,9 (value 0.0)>]"
      ]
     },
     "execution_count": 21,
     "metadata": {},
     "output_type": "execute_result"
    }
   ],
   "source": [
    "model.getVars()"
   ]
  },
  {
   "cell_type": "code",
   "execution_count": null,
   "metadata": {},
   "outputs": [],
   "source": []
  }
 ],
 "metadata": {
  "kernelspec": {
   "display_name": "Python 3",
   "language": "python",
   "name": "python3"
  },
  "language_info": {
   "codemirror_mode": {
    "name": "ipython",
    "version": 3
   },
   "file_extension": ".py",
   "mimetype": "text/x-python",
   "name": "python",
   "nbconvert_exporter": "python",
   "pygments_lexer": "ipython3",
   "version": "3.8.5"
  }
 },
 "nbformat": 4,
 "nbformat_minor": 4
}
